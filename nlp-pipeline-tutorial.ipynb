{
 "cells": [
  {
   "cell_type": "markdown",
   "metadata": {},
   "source": [
    "# Import Needed Modules"
   ]
  },
  {
   "cell_type": "markdown",
   "metadata": {},
   "source": [
    "pip install spacy\n",
    "\n",
    "python -m spacy download en_core_web_sm\n",
    "\n",
    "Use: TensorFlow:2.13 in Vertex AI Jupiter notebook config"
   ]
  },
  {
   "cell_type": "code",
   "execution_count": 1,
   "metadata": {},
   "outputs": [],
   "source": [
    "import numpy as np\n",
    "import pandas as pd\n",
    "\n",
    "from sklearn.model_selection import train_test_split\n",
    "from sklearn.feature_extraction.text import TfidfVectorizer\n",
    "from sklearn.naive_bayes import MultinomialNB\n",
    "from sklearn.ensemble import RandomForestClassifier\n",
    "from sklearn.metrics import accuracy_score, classification_report\n",
    "\n",
    "import spacy"
   ]
  },
  {
   "cell_type": "markdown",
   "metadata": {
    "tags": []
   },
   "source": [
    "# EDA"
   ]
  },
  {
   "cell_type": "code",
   "execution_count": 2,
   "metadata": {},
   "outputs": [
    {
     "name": "stdout",
     "output_type": "stream",
     "text": [
      "(5937, 2)\n"
     ]
    },
    {
     "data": {
      "text/html": [
       "<div>\n",
       "<style scoped>\n",
       "    .dataframe tbody tr th:only-of-type {\n",
       "        vertical-align: middle;\n",
       "    }\n",
       "\n",
       "    .dataframe tbody tr th {\n",
       "        vertical-align: top;\n",
       "    }\n",
       "\n",
       "    .dataframe thead th {\n",
       "        text-align: right;\n",
       "    }\n",
       "</style>\n",
       "<table border=\"1\" class=\"dataframe\">\n",
       "  <thead>\n",
       "    <tr style=\"text-align: right;\">\n",
       "      <th></th>\n",
       "      <th>Comment</th>\n",
       "      <th>Emotion</th>\n",
       "    </tr>\n",
       "  </thead>\n",
       "  <tbody>\n",
       "    <tr>\n",
       "      <th>0</th>\n",
       "      <td>i seriously hate one subject to death but now ...</td>\n",
       "      <td>fear</td>\n",
       "    </tr>\n",
       "    <tr>\n",
       "      <th>1</th>\n",
       "      <td>im so full of life i feel appalled</td>\n",
       "      <td>anger</td>\n",
       "    </tr>\n",
       "    <tr>\n",
       "      <th>2</th>\n",
       "      <td>i sit here to write i start to dig out my feel...</td>\n",
       "      <td>fear</td>\n",
       "    </tr>\n",
       "    <tr>\n",
       "      <th>3</th>\n",
       "      <td>ive been really angry with r and i feel like a...</td>\n",
       "      <td>joy</td>\n",
       "    </tr>\n",
       "    <tr>\n",
       "      <th>4</th>\n",
       "      <td>i feel suspicious if there is no one outside l...</td>\n",
       "      <td>fear</td>\n",
       "    </tr>\n",
       "  </tbody>\n",
       "</table>\n",
       "</div>"
      ],
      "text/plain": [
       "                                             Comment Emotion\n",
       "0  i seriously hate one subject to death but now ...    fear\n",
       "1                 im so full of life i feel appalled   anger\n",
       "2  i sit here to write i start to dig out my feel...    fear\n",
       "3  ive been really angry with r and i feel like a...     joy\n",
       "4  i feel suspicious if there is no one outside l...    fear"
      ]
     },
     "execution_count": 2,
     "metadata": {},
     "output_type": "execute_result"
    }
   ],
   "source": [
    "# Read the dataset with name \"Emotion_classify_Data.csv\" and store it in a variable df\n",
    "df = pd.read_csv(\"gcs://emotion-classify-bucket/Emotion_classify_Data.csv\")\n",
    "\n",
    "# Print the shape of dataframe\n",
    "print(df.shape)\n",
    "\n",
    "# Print top 5 rows\n",
    "df.head(5)"
   ]
  },
  {
   "cell_type": "code",
   "execution_count": 3,
   "metadata": {},
   "outputs": [
    {
     "data": {
      "text/plain": [
       "Emotion\n",
       "anger    2000\n",
       "joy      2000\n",
       "fear     1937\n",
       "Name: count, dtype: int64"
      ]
     },
     "execution_count": 3,
     "metadata": {},
     "output_type": "execute_result"
    }
   ],
   "source": [
    "# Check the distribution of Emotion\n",
    "df['Emotion'].value_counts()"
   ]
  },
  {
   "cell_type": "code",
   "execution_count": 4,
   "metadata": {},
   "outputs": [
    {
     "name": "stdout",
     "output_type": "stream",
     "text": [
      "i seriously hate one subject to death but now i feel reluctant to drop it -> fear\n"
     ]
    }
   ],
   "source": [
    "# Show sample\n",
    "print(f\"{df['Comment'][0]} -> {df['Emotion'][0]}\")"
   ]
  },
  {
   "cell_type": "markdown",
   "metadata": {},
   "source": [
    "# Preprocessing"
   ]
  },
  {
   "cell_type": "code",
   "execution_count": 5,
   "metadata": {},
   "outputs": [],
   "source": [
    "# load english language model and create nlp object from it\n",
    "nlp = spacy.load(\"en_core_web_sm\") "
   ]
  },
  {
   "cell_type": "code",
   "execution_count": 6,
   "metadata": {},
   "outputs": [
    {
     "data": {
      "text/plain": [
       "'ive been really angry with r and i feel like an idiot for trusting him in the first place'"
      ]
     },
     "execution_count": 6,
     "metadata": {},
     "output_type": "execute_result"
    }
   ],
   "source": [
    "txt = df['Comment'][3]\n",
    "txt"
   ]
  },
  {
   "cell_type": "code",
   "execution_count": 7,
   "metadata": {},
   "outputs": [],
   "source": [
    "# Tokenization\n",
    "doc = nlp(txt)"
   ]
  },
  {
   "cell_type": "markdown",
   "metadata": {},
   "source": [
    "### Sentence Tokenization\n",
    "We won't do this process as data in dataframe is splitted in sentences"
   ]
  },
  {
   "cell_type": "code",
   "execution_count": 8,
   "metadata": {},
   "outputs": [],
   "source": [
    "# for sentence in doc.sents:\n",
    "#     print(sentence)"
   ]
  },
  {
   "cell_type": "markdown",
   "metadata": {},
   "source": [
    "### Word Tokenization"
   ]
  },
  {
   "cell_type": "code",
   "execution_count": 9,
   "metadata": {},
   "outputs": [
    {
     "name": "stdout",
     "output_type": "stream",
     "text": [
      "i\n",
      "ve\n",
      "been\n",
      "really\n",
      "angry\n",
      "with\n",
      "r\n",
      "and\n",
      "i\n",
      "feel\n",
      "like\n",
      "an\n",
      "idiot\n",
      "for\n",
      "trusting\n",
      "him\n",
      "in\n",
      "the\n",
      "first\n",
      "place\n"
     ]
    }
   ],
   "source": [
    "for token in doc:\n",
    "    print(token)"
   ]
  },
  {
   "cell_type": "markdown",
   "metadata": {},
   "source": [
    "### Stemming and Lemmatization"
   ]
  },
  {
   "cell_type": "code",
   "execution_count": 10,
   "metadata": {},
   "outputs": [
    {
     "name": "stdout",
     "output_type": "stream",
     "text": [
      "Word: i | -> I\n",
      "Word: ve | -> have\n",
      "Word: been | -> be\n",
      "Word: really | -> really\n",
      "Word: angry | -> angry\n",
      "Word: with | -> with\n",
      "Word: r | -> r\n",
      "Word: and | -> and\n",
      "Word: i | -> I\n",
      "Word: feel | -> feel\n",
      "Word: like | -> like\n",
      "Word: an | -> an\n",
      "Word: idiot | -> idiot\n",
      "Word: for | -> for\n",
      "Word: trusting | -> trust\n",
      "Word: him | -> he\n",
      "Word: in | -> in\n",
      "Word: the | -> the\n",
      "Word: first | -> first\n",
      "Word: place | -> place\n"
     ]
    }
   ],
   "source": [
    "for token in doc:\n",
    "    print(f\"Word: {token} | -> {token.lemma_}\")"
   ]
  },
  {
   "cell_type": "markdown",
   "metadata": {
    "tags": []
   },
   "source": [
    "### Stop Words"
   ]
  },
  {
   "cell_type": "code",
   "execution_count": 11,
   "metadata": {},
   "outputs": [
    {
     "name": "stdout",
     "output_type": "stream",
     "text": [
      "i\n",
      "been\n",
      "really\n",
      "with\n",
      "and\n",
      "i\n",
      "an\n",
      "for\n",
      "him\n",
      "in\n",
      "the\n",
      "first\n"
     ]
    }
   ],
   "source": [
    "for token in doc:\n",
    "    if token.is_stop or token.is_punct:\n",
    "        print(token)"
   ]
  },
  {
   "cell_type": "markdown",
   "metadata": {},
   "source": [
    "### **Preprocess Function**"
   ]
  },
  {
   "cell_type": "code",
   "execution_count": 12,
   "metadata": {},
   "outputs": [],
   "source": [
    "# use this utility function to get the preprocessed text data\n",
    "def preprocess(text):\n",
    "    # remove stop words and lemmatize the text\n",
    "    doc = nlp(text)\n",
    "    filtered_tokens = []\n",
    "    for token in doc:\n",
    "        if token.is_stop or token.is_punct:\n",
    "            continue\n",
    "        filtered_tokens.append(token.lemma_)\n",
    "    \n",
    "    return \" \".join(filtered_tokens) "
   ]
  },
  {
   "cell_type": "code",
   "execution_count": 13,
   "metadata": {},
   "outputs": [
    {
     "name": "stdout",
     "output_type": "stream",
     "text": [
      "ive been really angry with r and i feel like an idiot for trusting him in the first place\n",
      "have angry r feel like idiot trust place\n"
     ]
    }
   ],
   "source": [
    "print(txt)\n",
    "procces_txt = preprocess(txt)\n",
    "print(procces_txt)"
   ]
  },
  {
   "cell_type": "markdown",
   "metadata": {
    "tags": []
   },
   "source": [
    "## Apply preprocess function on dataframe"
   ]
  },
  {
   "cell_type": "code",
   "execution_count": 14,
   "metadata": {},
   "outputs": [],
   "source": [
    "df['preprocessed_comment'] = df['Comment'].apply(preprocess) "
   ]
  },
  {
   "cell_type": "code",
   "execution_count": 15,
   "metadata": {},
   "outputs": [
    {
     "data": {
      "text/html": [
       "<div>\n",
       "<style scoped>\n",
       "    .dataframe tbody tr th:only-of-type {\n",
       "        vertical-align: middle;\n",
       "    }\n",
       "\n",
       "    .dataframe tbody tr th {\n",
       "        vertical-align: top;\n",
       "    }\n",
       "\n",
       "    .dataframe thead th {\n",
       "        text-align: right;\n",
       "    }\n",
       "</style>\n",
       "<table border=\"1\" class=\"dataframe\">\n",
       "  <thead>\n",
       "    <tr style=\"text-align: right;\">\n",
       "      <th></th>\n",
       "      <th>Comment</th>\n",
       "      <th>Emotion</th>\n",
       "      <th>preprocessed_comment</th>\n",
       "    </tr>\n",
       "  </thead>\n",
       "  <tbody>\n",
       "    <tr>\n",
       "      <th>0</th>\n",
       "      <td>i seriously hate one subject to death but now ...</td>\n",
       "      <td>fear</td>\n",
       "      <td>seriously hate subject death feel reluctant drop</td>\n",
       "    </tr>\n",
       "    <tr>\n",
       "      <th>1</th>\n",
       "      <td>im so full of life i feel appalled</td>\n",
       "      <td>anger</td>\n",
       "      <td>m life feel appalled</td>\n",
       "    </tr>\n",
       "    <tr>\n",
       "      <th>2</th>\n",
       "      <td>i sit here to write i start to dig out my feel...</td>\n",
       "      <td>fear</td>\n",
       "      <td>sit write start dig feeling think afraid accep...</td>\n",
       "    </tr>\n",
       "    <tr>\n",
       "      <th>3</th>\n",
       "      <td>ive been really angry with r and i feel like a...</td>\n",
       "      <td>joy</td>\n",
       "      <td>have angry r feel like idiot trust place</td>\n",
       "    </tr>\n",
       "    <tr>\n",
       "      <th>4</th>\n",
       "      <td>i feel suspicious if there is no one outside l...</td>\n",
       "      <td>fear</td>\n",
       "      <td>feel suspicious outside like rapture happen</td>\n",
       "    </tr>\n",
       "    <tr>\n",
       "      <th>...</th>\n",
       "      <td>...</td>\n",
       "      <td>...</td>\n",
       "      <td>...</td>\n",
       "    </tr>\n",
       "    <tr>\n",
       "      <th>5932</th>\n",
       "      <td>i begun to feel distressed for you</td>\n",
       "      <td>fear</td>\n",
       "      <td>begin feel distressed</td>\n",
       "    </tr>\n",
       "    <tr>\n",
       "      <th>5933</th>\n",
       "      <td>i left feeling annoyed and angry thinking that...</td>\n",
       "      <td>anger</td>\n",
       "      <td>leave feel annoyed angry thinking center stupi...</td>\n",
       "    </tr>\n",
       "    <tr>\n",
       "      <th>5934</th>\n",
       "      <td>i were to ever get married i d have everything...</td>\n",
       "      <td>joy</td>\n",
       "      <td>marry d ready offer ve get club perfect good l...</td>\n",
       "    </tr>\n",
       "    <tr>\n",
       "      <th>5935</th>\n",
       "      <td>i feel reluctant in applying there because i w...</td>\n",
       "      <td>fear</td>\n",
       "      <td>feel reluctant apply want able find company kn...</td>\n",
       "    </tr>\n",
       "    <tr>\n",
       "      <th>5936</th>\n",
       "      <td>i just wanted to apologize to you because i fe...</td>\n",
       "      <td>anger</td>\n",
       "      <td>want apologize feel like heartless bitch</td>\n",
       "    </tr>\n",
       "  </tbody>\n",
       "</table>\n",
       "<p>5937 rows × 3 columns</p>\n",
       "</div>"
      ],
      "text/plain": [
       "                                                Comment Emotion  \\\n",
       "0     i seriously hate one subject to death but now ...    fear   \n",
       "1                    im so full of life i feel appalled   anger   \n",
       "2     i sit here to write i start to dig out my feel...    fear   \n",
       "3     ive been really angry with r and i feel like a...     joy   \n",
       "4     i feel suspicious if there is no one outside l...    fear   \n",
       "...                                                 ...     ...   \n",
       "5932                 i begun to feel distressed for you    fear   \n",
       "5933  i left feeling annoyed and angry thinking that...   anger   \n",
       "5934  i were to ever get married i d have everything...     joy   \n",
       "5935  i feel reluctant in applying there because i w...    fear   \n",
       "5936  i just wanted to apologize to you because i fe...   anger   \n",
       "\n",
       "                                   preprocessed_comment  \n",
       "0      seriously hate subject death feel reluctant drop  \n",
       "1                                  m life feel appalled  \n",
       "2     sit write start dig feeling think afraid accep...  \n",
       "3              have angry r feel like idiot trust place  \n",
       "4           feel suspicious outside like rapture happen  \n",
       "...                                                 ...  \n",
       "5932                              begin feel distressed  \n",
       "5933  leave feel annoyed angry thinking center stupi...  \n",
       "5934  marry d ready offer ve get club perfect good l...  \n",
       "5935  feel reluctant apply want able find company kn...  \n",
       "5936           want apologize feel like heartless bitch  \n",
       "\n",
       "[5937 rows x 3 columns]"
      ]
     },
     "execution_count": 15,
     "metadata": {},
     "output_type": "execute_result"
    }
   ],
   "source": [
    "df"
   ]
  },
  {
   "cell_type": "markdown",
   "metadata": {},
   "source": [
    "## Encoding target column"
   ]
  },
  {
   "cell_type": "code",
   "execution_count": 16,
   "metadata": {},
   "outputs": [
    {
     "data": {
      "text/html": [
       "<div>\n",
       "<style scoped>\n",
       "    .dataframe tbody tr th:only-of-type {\n",
       "        vertical-align: middle;\n",
       "    }\n",
       "\n",
       "    .dataframe tbody tr th {\n",
       "        vertical-align: top;\n",
       "    }\n",
       "\n",
       "    .dataframe thead th {\n",
       "        text-align: right;\n",
       "    }\n",
       "</style>\n",
       "<table border=\"1\" class=\"dataframe\">\n",
       "  <thead>\n",
       "    <tr style=\"text-align: right;\">\n",
       "      <th></th>\n",
       "      <th>Comment</th>\n",
       "      <th>Emotion</th>\n",
       "      <th>preprocessed_comment</th>\n",
       "      <th>Emotion_num</th>\n",
       "    </tr>\n",
       "  </thead>\n",
       "  <tbody>\n",
       "    <tr>\n",
       "      <th>0</th>\n",
       "      <td>i seriously hate one subject to death but now ...</td>\n",
       "      <td>fear</td>\n",
       "      <td>seriously hate subject death feel reluctant drop</td>\n",
       "      <td>1</td>\n",
       "    </tr>\n",
       "    <tr>\n",
       "      <th>1</th>\n",
       "      <td>im so full of life i feel appalled</td>\n",
       "      <td>anger</td>\n",
       "      <td>m life feel appalled</td>\n",
       "      <td>2</td>\n",
       "    </tr>\n",
       "    <tr>\n",
       "      <th>2</th>\n",
       "      <td>i sit here to write i start to dig out my feel...</td>\n",
       "      <td>fear</td>\n",
       "      <td>sit write start dig feeling think afraid accep...</td>\n",
       "      <td>1</td>\n",
       "    </tr>\n",
       "    <tr>\n",
       "      <th>3</th>\n",
       "      <td>ive been really angry with r and i feel like a...</td>\n",
       "      <td>joy</td>\n",
       "      <td>have angry r feel like idiot trust place</td>\n",
       "      <td>0</td>\n",
       "    </tr>\n",
       "    <tr>\n",
       "      <th>4</th>\n",
       "      <td>i feel suspicious if there is no one outside l...</td>\n",
       "      <td>fear</td>\n",
       "      <td>feel suspicious outside like rapture happen</td>\n",
       "      <td>1</td>\n",
       "    </tr>\n",
       "  </tbody>\n",
       "</table>\n",
       "</div>"
      ],
      "text/plain": [
       "                                             Comment Emotion  \\\n",
       "0  i seriously hate one subject to death but now ...    fear   \n",
       "1                 im so full of life i feel appalled   anger   \n",
       "2  i sit here to write i start to dig out my feel...    fear   \n",
       "3  ive been really angry with r and i feel like a...     joy   \n",
       "4  i feel suspicious if there is no one outside l...    fear   \n",
       "\n",
       "                                preprocessed_comment  Emotion_num  \n",
       "0   seriously hate subject death feel reluctant drop            1  \n",
       "1                               m life feel appalled            2  \n",
       "2  sit write start dig feeling think afraid accep...            1  \n",
       "3           have angry r feel like idiot trust place            0  \n",
       "4        feel suspicious outside like rapture happen            1  "
      ]
     },
     "execution_count": 16,
     "metadata": {},
     "output_type": "execute_result"
    }
   ],
   "source": [
    "df['Emotion_num'] = df['Emotion'].map({'joy' : 0, 'fear': 1, 'anger': 2})\n",
    "\n",
    "df.head(5)"
   ]
  },
  {
   "cell_type": "markdown",
   "metadata": {},
   "source": [
    "## Split data into train and test"
   ]
  },
  {
   "cell_type": "code",
   "execution_count": 17,
   "metadata": {},
   "outputs": [],
   "source": [
    "X_train, X_test, y_train, y_test = train_test_split(df['preprocessed_comment'], df['Emotion_num'], \n",
    "                                                    test_size=0.2, random_state=42, stratify=df['Emotion_num'])"
   ]
  },
  {
   "cell_type": "code",
   "execution_count": 18,
   "metadata": {},
   "outputs": [
    {
     "name": "stdout",
     "output_type": "stream",
     "text": [
      "Shape of X_train:  (4749,)\n",
      "Shape of X_test:  (1188,)\n"
     ]
    }
   ],
   "source": [
    "print(\"Shape of X_train: \", X_train.shape)\n",
    "print(\"Shape of X_test: \", X_test.shape)"
   ]
  },
  {
   "cell_type": "markdown",
   "metadata": {},
   "source": [
    "## Convert text column to numeric vector"
   ]
  },
  {
   "cell_type": "code",
   "execution_count": 19,
   "metadata": {
    "_kg_hide-output": true,
    "tags": []
   },
   "outputs": [
    {
     "name": "stdout",
     "output_type": "stream",
     "text": [
      "{'thrilled': 5451, 'lot': 3194, 'thing': 5439, 'feel': 1976, 'petrified': 3942, 'know': 3004, 'good': 2297, 'look': 3182, 'honor': 2548, 'word': 6040, 'help': 2489, 'start': 5112, 'way': 5927, 'trust': 5601, 'come': 982, 'quarter': 4250, 'invigorated': 2831, 'work': 6041, 'end': 1724, 'spring': 5077, 'sleep': 4890, 'eat': 1638, 'take': 5328, 'care': 758, 'firm': 2026, 'believer': 491, 'make': 3246, 'woman': 6031, 'terrific': 5405, 'great': 2336, 'trip': 5587, 'salon': 4615, 'lift': 3118, 'spirit': 5053, 'bit': 537, 'attempt': 353, 'hair': 2392, 'color': 971, 'session': 4746, 'later': 3043, 'brave': 634, 'crazy': 1176, 'saturday': 4637, 'night': 3624, 'ask': 317, 'shed': 4776, 'like': 3123, 'say': 4643, 'nt': 3661, 'mind': 3394, 'suggestion': 5239, 'have': 2448, 'try': 5606, 'day': 1282, 'entertained': 1758, 'comfortable': 986, 'think': 5440, 'fit': 2028, 'love': 3203, 'talk': 5336, 'patient': 3878, 'nervous': 3594, 'minute': 3403, 'confuse': 1054, 'wait': 5883, 'long': 3179, 'time': 5473, 'read': 4321, 'second': 4690, 'book': 603, 'wrong': 6070, 'feeling': 1978, 'studio': 5195, 'reluctant': 4424, 'clint': 924, 'money': 3447, 'fund': 2181, 'movie': 3487, 'perspective': 3934, 'japanese': 2891, 'dew': 1414, 'positive': 4057, 'showing': 4820, 'south': 5018, 'encourage': 1722, 'writer': 6068, 'experience': 1878, 'level': 3103, 'advancement': 89, 'share': 4768, 'little': 3151, 'smug': 4928, 'usually': 5779, 'run': 4581, 'late': 3041, 'plan': 3992, 'convince': 1106, 'factor': 1910, 'culture': 1225, 'kind': 2985, 'cooking': 1111, 'mystique': 3532, 'blackburn': 546, 'stubborn': 5190, 'team': 5366, 'blackpool': 547, 'holloway': 2530, 'want': 5899, 'reaction': 4319, 'game': 2201, 'don': 1550, 'result': 4494, 'stress': 5173, 'learn': 3070, 'blog': 570, 'wish': 6022, 'gorgeous': 2304, 'nail': 3540, 'concoction': 1039, 'soak': 4954, 'pale': 3826, 'bod': 587, 'fake': 1921, 'browness': 668, 'watch': 5922, 'soon': 4999, 'relieved': 4417, 'pick': 3964, 'boy': 624, 'shut': 4823, 'place': 3990, 'seize': 4705, 'dog': 1544, 'happy': 2420, 'get': 2248, 'listen': 3145, 'win': 6007, 'war': 5901, 'predatory': 4100, 'school': 4663, 'deform': 1327, 'hold': 2524, 'scotty': 4672, 'high': 2508, 'price': 4132, 'bundle': 693, 'joy': 2931, 'apprehensive': 275, 'sudden': 5230, 'completely': 1020, 'annoyed': 225, 'sure': 5268, 'leave': 3073, 'angry': 210, 'unhappy': 5696, 'cause': 786, 'member': 3347, 'staff': 5098, 'aggressive': 117, 'upset': 5762, 'hurt': 2606, 'final': 2010, 'personal': 3929, 'attack': 352, 'awful': 386, 'individual': 2711, 'bad': 404, 'attitude': 357, 'hateful': 2443, 'give': 2261, 'friendship': 2150, 'couple': 1147, 'reason': 4334, 'admit': 80, 'defeat': 1315, 'let': 3099, 'husband': 2608, 'insecure': 2751, 'need': 3579, 'avoid': 377, 'cut': 1243, 'life': 3114, 'security': 4698, 'challenge': 816, 'inspire': 2764, 'christmas': 879, 'present': 4114, 'away': 384, 'hate': 2441, 'hesitant': 2499, 'tell': 5382, 'truth': 5604, 'house': 2577, 'toy': 5530, 'rich': 4519, 'material': 3303, 'standard': 5107, 'grateful': 2329, 'consolidate': 1074, 'step': 5133, 'evaluate': 1813, 'purpose': 4234, 'provide': 4204, 'fabulous': 1906, 'vicarious': 5828, 'you': 6108, 'live': 3152, 'sarcasm': 4629, 'print': 4140, 'heartless': 2471, 'man': 3254, 'break': 636, 'heart': 2467, 'remember': 4431, 'frantic': 2127, 'point': 4023, 'fine': 2018, 'rest': 4491, 'left': 3077, 'uneasy': 5679, 'skin': 4878, 'fuck': 2168, 'tape': 5345, 'year': 6093, 'unsure': 5741, 'neutral': 3604, 'change': 821, 'agitated': 120, 'people': 3908, 'die': 1427, 'bother': 613, 'past': 3869, 've': 5805, 'cry': 1217, 'perfect': 3912, 'weather': 5934, 'anxiety': 241, 'bring': 651, 'tether': 5414, 'overwhelmed': 3804, 'bless': 561, 'pray': 4091, 'fear': 1960, 'birthday': 535, 'incredibly': 2702, 'sarcastic': 4630, 'right': 4526, 'random': 4295, 'moment': 3440, 'suddenly': 5231, 'creative': 1181, 'sit': 4868, 'hear': 2465, 'tick': 5463, 'keyboard': 2975, 'key': 2974, 'thought': 5446, 'spill': 5049, 'screen': 4678, 'pain': 3820, 'anguish': 213, 'family': 1927, 'innocent': 2745, 'child': 859, 'kill': 2983, 'safe': 4603, 'honest': 2543, 'report': 4455, 'petty': 3945, 'tangible': 5342, 'pragmatic': 4085, 'sister': 4867, 'shaky': 4762, 'weak': 5928, 'light': 3119, 'head': 2453, 'yesterday': 6100, 'morning': 3461, 'wake': 5886, 'couldn': 1138, 'breathe': 641, 'properly': 4190, 'matter': 3306, 'deep': 1311, 'breath': 640, 'wasn': 5919, 'oxygen': 3810, 'go': 2286, 'threatened': 5449, 'anxious': 242, 'numb': 3665, 'detatche': 1398, 'emotion': 1701, 'environment': 1777, 'certain': 805, 'instinct': 2773, 'stop': 5154, 'speak': 5033, 'bitchy': 539, 'unappreciated': 5650, 'today': 5495, 'spiteful': 5058, 'see': 4699, 'face': 1907, 'pressure': 4120, 'inside': 2755, 'magical': 3235, 'happen': 2415, 'shoe': 4796, 'walk': 5890, 'park': 3850, 'beach': 461, 'jealous': 2898, 'friend': 2148, 'mom': 3439, 'politely': 4033, 'fearful': 1961, 'shaken': 4761, 'weird': 5953, 'yuuki': 6114, 'girl': 2258, 'guy': 2379, 'insult': 2777, 'ill': 2642, 'treat': 5570, 'lathi': 3044, 'charge': 828, 'ground': 2355, 'obligation': 3681, 'duty': 1617, 'expectation': 1875, 'intuition': 2821, 'guide': 2369, 'actual': 63, 'direction': 1452, 'extremely': 1899, 'course': 1149, 'extent': 1893, 'favour': 1957, 'disgusted': 1487, 'annoy': 223, 'action': 56, 'rush': 4586, 'intimidate': 2813, 'code': 951, 'vast': 5801, 'didn': 1426, 'send': 4719, 'crap': 1169, 'embarrass': 1689, 'oregon': 3757, 'ok': 3718, 'question': 4256, 'yell': 6097, 'mad': 3231, 'old': 3721, 'dad': 1253, 'home': 2534, 'wo': 6028, 'distressed': 1523, 'solve': 4984, 'hopelessness': 2561, 'sadness': 4602, 'destroy': 1395, 'slowly': 4908, 'selfish': 4712, 'choice': 871, 'particularly': 3858, 'dangerous': 1267, 'chocolate': 870, 'cookie': 1110, 'strop': 5186, 'grumpy': 2362, 'miss': 3414, 'show': 4818, 'horse': 2568, 'relaxed': 4408, 'quiet': 4261, 'handle': 2407, 'frequently': 2139, 'strongly': 5185, 'isn': 2859, 'music': 3519, 'production': 4165, 'fashion': 1943, 'passionate': 3866, 'scared': 4650, 'jump': 2946, 'seat': 4687, 'grab': 2310, 'arm': 288, 'preferably': 4105, 'male': 3249, 'companion': 1005, 'vindictive': 5844, 'bitch': 538, 'mix': 3424, 'irritable': 2850, 'prayer': 4092, 'consider': 1067, 'act': 54, 'sec': 4689, 'type': 5634, 'situation': 4872, 'story': 5157, 'free': 2134, 'totally': 5521, 'trainable': 5544, 'chew': 855, 'habit': 2383, 'kid': 2980, 'training': 5546, 'process': 4157, 'confess': 1047, 'lose': 3191, 'tackle': 5321, 'political': 4035, 'idea': 2624, 'disgust': 1486, 'ugliness': 5639, 'current': 1235, 'society': 4964, 'especially': 1795, 'gina': 2257, 'imagine': 2650, 'write': 6067, 'letter': 3102, 'misgiving': 3410, 'half': 2395, 'luke': 3219, 'torture': 5516, 'car': 753, 'wash': 5917, 'generous': 2235, 'anticipation': 238, 'divine': 1530, 'climb': 920, 'hill': 2515, 'frustrate': 2165, 'would': 6056, 'pretty': 4125, 'pace': 3811, 'entirely': 1766, 'hamper': 2399, 'dent': 1355, 'glamorous': 2265, 'pressured': 4121, 'well': 5955, 'guess': 2366, 'decision': 1302, 'retrospect': 4501, 'wouldn': 6057, 'shake': 4760, 'harvest': 2434, 'keen': 2969, 'spend': 5044, 'style': 5205, 'ruin': 4579, 'outside': 3780, 'damp': 1261, 'air': 134, 'shape': 4767, 'increasingly': 2700, 'frustrated': 2166, 'daily': 1255, 'accumulation': 43, 'body': 589, 'fat': 1947, 'elusive': 1684, 'steal': 5127, 'mother': 3467, 'beat': 467, 'unreasonable': 5727, 'lend': 3087, 'threaten': 5448, 'pair': 3824, 'scissor': 4667, 'terrified': 5406, 'obsess': 3686, 'believe': 490, 'feminism': 1985, 'saving': 4642, 'power': 4074, 'rock': 4547, 'bauer': 457, 'proclaim': 4160, 'article': 301, 'skeptical': 4874, 'unconvinced': 5664, 'angered': 207, 'somewhat': 4993, 'liar': 3105, 'gym': 2381, 'neurotic': 3603, 'nolean': 3632, 'probably': 4154, 'lack': 3017, 'diy': 1534, 'art': 300, 'stuff': 5197, 'sorta': 5009, 'wihtout': 5995, 'cranky': 1167, 'cantankerous': 745, 'resentful': 4470, 'slave': 4889, 'basically': 447, 'rely': 4425, 'heavily': 2476, 'alcohol': 146, 'marijuana': 3278, 'separation': 4733, 'divorce': 1532, 'space': 5022, 'sanity': 4625, 'maternal': 3305, 'responsibility': 4489, 'intention': 2791, 'world': 6047, 'class': 897, 'player': 4004, 'benzema': 509, 'mould': 3477, 'fantastic': 1935, 'super': 5254, 'strong': 5184, 'bicep': 521, 'genuinely': 2242, 'vacation': 5787, 'heartbroken': 2468, 'lure': 3225, 'event': 1819, 'promise': 4182, 'champagne': 819, 'brilliant': 650, 'bestselle': 511, 'author': 369, 'kathy': 2965, 'lette': 3101, 'empower': 1711, 'timid': 5478, 'underground': 5667, 'murmur': 3515, 'quarrel': 4249, 'parent': 3846, 'convinced': 1107, 'emotionally': 1703, 'distraught': 1521, 'unable': 5648, 'concentrate': 1031, 'vulnerable': 5880, 'hit': 2519, 'publish': 4215, 'button': 712, 'intervention': 2809, 'behalf': 481, 'uncertain': 5656, 'reach': 4317, 'plateau': 4000, 'buy': 713, 'use': 5772, 'satisfied': 4636, 'wardrobe': 5903, 'decide': 1300, 'month': 3450, 'wear': 5932, 'ugly': 5640, 'pink': 3978, 'black': 545, 'running': 4583, 'cute': 1244, 'abit': 10, 'continue': 1096, 'irritated': 2852, 'grouchy': 2354, 'intermittent': 2802, 'lacklustre': 3018, 'pen': 3903, 'nice': 3615, 'doubtful': 1567, 'disappoint': 1463, 'actually': 64, 'phone': 3953, 'call': 727, 'hated': 2442, 'useless': 5774, 'week': 5944, 'ago': 122, 'valuable': 5795, 'abyss': 23, 'create': 1179, 'greedy': 2339, 'far': 1937, 'meet': 3338, 'supermarket': 5258, 'bank': 431, 'dentist': 1356, 'etc': 1801, 'paranoid': 3842, 'wonder': 6033, 'defriende': 1329, 'te': 5361, 'find': 2017, 'simplicity': 4849, 'balance': 416, 'ken': 2973, 'cool': 1112, 'certainly': 806, 'hockey': 2523, 'local': 3164, 'pub': 4213, 'pig': 3970, 'duke': 1605, 'parmesan': 3852, 'truffle': 5598, 'wing': 6012, 'prawn': 4090, 'lollipop': 3173, 'delicious': 1338, 'terrible': 5403, 'idealistic': 2625, 'expect': 1874, 'proporte': 4192, 'test': 5413, 'control': 1101, 'dissatisfaction': 1507, 'connect': 1059, 'enjoy': 1745, 'instead': 2771, 'withdraw': 6024, 'travel': 5565, 'superficial': 5255, 'easy': 1637, 'true': 5596, 'adventurous': 92, 'offended': 3703, 'line': 3136, 'questioning': 4258, 'stick': 5137, 'surround': 5278, 'talented': 5335, 'suffer': 5234, 'produce': 4162, 'worthwhile': 6054, 'awfully': 387, 'difficult': 1433, 'sensational': 4722, 'heat': 2472, 'ash': 312, 'stench': 5132, 'greasy': 2335, 'basic': 446, 'post': 4064, 'yeast': 6096, 'infection': 2721, 'mode': 3431, 'joyful': 2932, 'maybe': 3308, 'hormone': 2563, 'lie': 3112, 'worried': 6049, 'feelin': 1977, 'lil': 3129, 'uptight': 5766, 'sucky': 5229, 'lately': 3042, 'confused': 1055, 'drunk': 1598, 'fab': 1904, 'bitter': 541, 'rise': 4537, 'cheat': 841, 'appear': 266, 'content': 1091, 'ne': 3571, 'mellow': 3344, 'spite': 5057, 'rage': 4284, 'pm': 4019, 'mean': 3316, 'likely': 3127, 'erupt': 1790, 'warning': 5912, 'flirty': 2062, 'playful': 4005, 'sexy': 4756, 'reckless': 4349, 'brother': 664, 'law': 3052, 'popular': 4046, 'stiff': 5139, 'participate': 3856, 'sketch': 4875, 'dare': 1269, 'big': 523, 'stiller': 5141, 'vaughn': 5802, 'hater': 2444, 'enjoyment': 1747, 'performance': 3915, 'character': 826, 'hour': 2576, 'bump': 691, 'score': 4670, 'mark': 3279, 'mixture': 3426, 'professor': 4169, 'generate': 2229, 'usmleasy': 5777, 'one': 3729, 'lucky': 3215, 'awesome': 385, 'belong': 497, 'middle': 3376, 'aaron': 2, 'tension': 5397, 'permeate': 3922, 'calm': 731, 'storm': 5156, 'amused': 191, 'sense': 4723, 'real': 4327, 'danger': 1266, 'shock': 4793, 'overly': 3793, 'distracted': 1519, 'tabby': 5319, 'path': 3874, 'route': 4569, 'wood': 6036, 'creek': 1188, 'meadow': 3314, 'cold': 960, 'refresh': 4378, 'summer': 5246, 'relaxation': 4407, 'carefree': 761, 'intense': 2788, 'struggle': 5189, 'move': 3485, 'proud': 4202, 'respect': 4484, 'pull': 4219, 'fix': 2031, 'issue': 2865, 'slightly': 4897, 'optimistic': 3750, 'connection': 1060, 'human': 2591, 'responsible': 4490, 'occasion': 3691, 'remind': 4433, 'pattern': 3882, 'conduct': 1044, 'different': 1431, 'demand': 1345, 'beloved': 499, 'push': 4237, 'spin': 5050, 'dance': 1263, 'drum': 1597, 'despise': 1387, 'haven': 2449, 'segregate': 4704, 'window': 6010, 'cross': 1201, 'beam': 463, 'metre': 3370, 'gracious': 2313, 'freak': 2131, 'finance': 2013, 'smooth': 4924, 'monetarily': 3446, 'twist': 5628, 'explanation': 1882, 'violent': 5851, 'patience': 3877, 'image': 2648, 'pop': 4044, 'deal': 1290, 'knot': 3003, 'shoelace': 4797, 'affect': 100, 'relationship': 4403, 'loss': 3192, 'engineer': 1740, 'dsp': 1600, 'design': 1377, 'eventually': 1821, 'job': 2915, 'financial': 2014, 'number': 3666, 'crunch': 1211, 'software': 4973, 'company': 1006, 'hostile': 2572, 'credit': 1187, 'card': 757, 'annoying': 226, 'unfit': 5688, 'determination': 1399, 'poo': 4040, 'vicious': 5830, 'circle': 886, 'wine': 6011, 'amuse': 190, 'sell': 4714, 'impressionable': 2676, 'emotional': 1702, 'hope': 2556, 'thanksgiving': 5423, 'wide': 5990, 'open': 3736, 'hard': 2423, 'excited': 1850, 'nostalgic': 3649, 'rude': 4574, 'snappy': 4934, 'touch': 5523, 'toast': 5492, 'sincere': 4854, 'huge': 2587, 'group': 2356, 'hug': 2586, 'link': 3138, 'rel': 4399, 'stylesheet': 5206, 'text': 5415, 'css': 1220, 'href': 2580, 'http': 2582, 'jdelivery': 2897, 'young': 6109, 'teenager': 5378, 'wave': 5925, 'cafe': 717, 'mill': 3390, 'turn': 5621, 'restaurant': 4492, 'personality': 3930, 'food': 2088, 'talkative': 5337, 'person': 3927, 'glad': 2264, 'uncomfortable': 5661, 'substance': 5216, 'yoga': 6106, 'homework': 2541, 'shy': 4824, 'afraid': 107, 'keep': 2971, 'view': 5837, 'wanna': 5898, 'productive': 4166, 'grumble': 2361, 'scratch': 4675, 'butt': 709, 'dark': 1270, 'room': 4557, 'figure': 2005, 'heed': 2480, 'advice': 94, 'kinda': 2986, 'piss': 3985, 'wimpy': 6006, 'complain': 1017, 'semester': 4716, 'regularly': 4390, 'suck': 5227, 'constantly': 1077, 'death': 1293, 'indecisive': 2704, 'negative': 3582, 'highschool': 2511, 'damn': 1260, 'store': 5155, 'complete': 1019, 'input': 2747, 'tonight': 5510, 'knitting': 3001, 'stitching': 5149, 'shop': 4802, 'offend': 3702, 'married': 3283, 'senior': 4720, 'pastor': 3871, 'reality': 4330, 'glaring': 2268, 'inexperience': 2720, 'stressed': 5174, 'military': 3388, 'definitely': 1325, 'lock': 3166, 'lifeline': 3115, 'loop': 3186, 'cleat': 912, 'pile': 3972, 'gas': 2209, 'spark': 5028, 'plug': 4016, 'cover': 1154, 'hole': 2525, 'duct': 1603, 'tortured': 5517, 'inspiration': 2763, 'strike': 5178, 'cos': 1130, 'answer': 233, 'drop': 1593, 'aid': 130, 'plus': 4018, 'quitter': 4267, 'fragile': 2121, 'tear': 5367, 'eye': 1901, 'energetic': 1733, 'honestly': 2544, 'generally': 2228, 'junk': 2948, 'yeah': 6092, 'bully': 687, 'powerful': 4075, 'physically': 3959, 'thrill': 5450, 'absolutely': 17, 'suspicious': 5285, 'understand': 5669, 'memory': 3348, 'precious': 4094, 'cherish': 852, 'inhibit': 2732, 'self': 4711, 'finish': 2020, 'million': 3392, 'able': 11, 'focus': 2078, 'task': 5349, 'separately': 4732, 'mike': 3383, 'deeply': 1312, 'information': 2728, 'delight': 1339, 'reward': 4514, 'practical': 4080, 'outcome': 3769, 'date': 1277, 'outgoing': 3774, 'ease': 1632, 'rhetoric': 4517, 'behaviour': 484, 'apc': 255, 'leader': 3065, 'remain': 4426, 'silent': 4841, 'expression': 1890, 'equally': 1785, 'morally': 3458, 'outraged': 3778, 'regardless': 4384, 'michigan': 3374, 'new': 3606, 'york': 6107, 'governor': 2308, 'prostitute': 4195, 'wife': 5992, 'daughter': 1278, 'back': 396, 'paint': 3823, 'owl': 3809, 'simple': 4848, 'template': 5385, 'easily': 1635, 'blank': 554, 'canvas': 747, 'invest': 2826, 'internet': 2804, 'dummy': 1608, 'status': 5124, 'pariah': 3848, 'honoured': 2551, 'host': 2570, 'series': 4738, 'talente': 5334, 'visit': 5862, 'rally': 4290, 'finland': 2021, 'nap': 3550, 'bouncy': 619, 'pram': 4087, 'gervase': 2246, 'pipe': 3983, 'accept': 27, 'invitation': 2832, 'brew': 646, 'aware': 381, 'draw': 1581, 'solid': 4979, 'bag': 410, 'brown': 667, 'throw': 5457, 'vibrant': 5826, 'patent': 3873, 'red': 4361, 'metallic': 3366, 'clutch': 942, 'accessory': 31, 'lonely': 3177, 'cat': 778, 'press': 4119, 'play': 4003, 'row': 4571, 'receive': 4340, 'judgment': 2940, 'white': 5978, 'problem': 4156, 'entitle': 1768, 'whining': 5971, 'delusion': 1342, 'rebellious': 4337, 'sake': 4611, 'embarrased': 1688, 'sad': 4598, 'tranny': 5549, 'title': 5490, 'blake': 551, 'lively': 3155, 'www': 6076, 'sam': 4616, 'oblige': 3682, 'master': 3298, 'wanting': 5900, 'eager': 1622, 'attention': 355, 'desire': 1380, 'return': 4502, 'affection': 101, 'clear': 909, 'sexually': 4755, 'psychologically': 4211, 'currently': 1236, 'lest': 3097, 'ringing': 4532, 'sick': 4827, 'holiday': 2526, 'teach': 5363, 'nursery': 3669, 'special': 5034, 'study': 5196, 'curriculum': 1237, 'lesson': 3096, 'enjoyable': 1746, 'interesting': 2800, 'pupil': 4230, 'foot': 2092, 'stadium': 5097, 'reflect': 4374, 'vocal': 5870, 'opinion': 3741, 'fact': 1909, 'hu': 2583, 'jia': 2912, 'future': 2192, 'bed': 473, 'virtual': 5856, 'silence': 4840, 'agitate': 119, 'constant': 1076, 'noise': 3631, 'chatter': 838, 'anansi': 196, 'dallas': 1257, 'unfold': 5690, 'helpless': 2490, 'acceptance': 29, 'unza': 5752, 'pass': 3862, 'accidentally': 33, 'catch': 780, 'glimpse': 2273, 'mirror': 3405, 'impromptu': 2678, 'picture': 3967, 'assault': 323, 'forget': 2103, 'glance': 2267, 'stroll': 5183, 'sidewalk': 4831, 'envious': 1775, 'explain': 1881, 'exhibit': 1866, 'piece': 3969, 'stressful': 5175, 'dissatisfied': 1508, 'happily': 2417, 'bob': 586, 'explore': 1885, 'abstract': 19, 'universe': 5709, 'contact': 1088, 'form': 2106, 'bond': 597, 'encounter': 1721, 'snowglobe': 4951, 'fly': 2075, 'determined': 1401, 'rarely': 4307, 'advance': 88, 'rule': 4580, 'online': 3731, 'prepared': 4112, 'somebodys': 4987, 'evening': 1818, 'pie': 3968, 'crust': 1215, 'recipe': 4346, 'joseph': 2924, 'walt': 5896, 'defend': 1316, 'god': 2288, 'concern': 1033, 'circumstance': 888, 'disabled': 1458, 'deserve': 1376, 'dignity': 1437, 'shun': 4821, 'laugh': 3045, 'xox': 6085, 'll': 3158, 'flawless': 2047, 'mid': 3375, 'october': 3698, 'workload': 6044, 'limited': 3134, 'arrangment': 294, 'focused': 2079, 'lead': 3063, 'pursue': 4235, 'treadmill': 5568, 'puzzle': 4241, 'improve': 2680, 'motor': 3474, 'skill': 4876, 'follow': 2084, 'set': 4747, 'instruction': 2776, 'order': 3753, 'syndrome': 5313, 'begin': 479, 'internally': 2803, 'nauseous': 3567, 'shortness': 4810, 'pound': 4071, 'discover': 1478, 'snooze': 4947, 'value': 5796, 'appreciate': 272, 'nature': 3562, 'distract': 1518, 'block': 569, 'traffic': 5538, 'glint': 2274, 'madness': 3232, 'pathological': 3876, 'curiosity': 1232, 'totality': 5520, 'gift': 2253, 'compete': 1014, 'sweep': 5294, 'superstition': 5259, 'pay': 3888, 'extra': 1896, 'caution': 787, 'forward': 2116, 'courthouse': 1152, 'cheerfully': 847, 'chat': 837, 'judge': 2939, 'chamber': 818, 'respected': 4485, 'notion': 3654, 'ensure': 1755, 'felt': 1983, 'unfairly': 5683, 'airport': 135, 'egan': 1662, 'kurt': 3010, 'familiar': 1926, 'church': 882, 'stay': 5125, 'clingy': 921, 'meeting': 3339, 'wig': 5993, 'account': 41, 'model': 3432, 'beautiful': 468, 'private': 4148, 'casual': 776, 'plain': 3991, 'tank': 5343, 'loose': 3187, 'bottom': 617, 'zara': 6117, 'resolve': 4479, 'dissipate': 1511, 'powerless': 4076, 'resolution': 4478, 'coope': 1113, 'determine': 1400, 'stretch': 5176, 'chance': 820, 'tree': 5572, 'grandparent': 2325, 'obviously': 3690, 'conducive': 1043, 'philosophy': 3951, 'brow': 666, 'harbor': 2422, 'sweet': 5295, 'grow': 2358, 'awake': 379, 'breast': 638, 'milk': 3389, 'baby': 395, 'formula': 2109, 'doodly': 1554, 'artistic': 306, 'hungry': 2603, 'trendy': 5576, 'stellar': 5130, 'wonderful': 6034, 'choose': 873, 'alphabet': 165, 'jsk': 2935, 'length': 3089, 'lolita': 3172, 'dress': 1586, 'knee': 2997, 'jane': 2887, 'austen': 366, 'nauseate': 3566, 'concerned': 1034, 'betray': 513, 'waste': 5920, 'practically': 4081, 'option': 3751, 'drama': 1579, 'girlfriend': 2259, 'apt': 280, 'mention': 3353, 'coercive': 952, 'pushy': 4238, 'classmate': 900, 'merit': 3358, 'grade': 2314, 'humility': 2596, 'hypocritical': 2617, 'disgusting': 1488, 'peace': 3893, 'welcome': 5954, 'packing': 3815, 'bye': 715, 'overwhelming': 3805, 'displacement': 1499, 'instantly': 2770, 'terrorise': 5411, 'hopeful': 2557, 'orphan': 3763, 'crisis': 1195, 'country': 1146, 'expert': 1880, 'getting': 2250, 'neglect': 3585, 'undeservedly': 5675, 'harm': 2430, 'mary': 3290, 'anne': 219, 'impatient': 2659, 'boundary': 620, 'conversation': 1104, 'confidence': 1048, 'strength': 5171, 'attend': 354, 'amp': 189, 'lay': 3056, 'majorly': 3245, 'cast': 775, 'alternate': 168, 'timeline': 5474, 'stuck': 5192, 'unrest': 5730, 'christian': 876, 'disciple': 1469, 'christ': 875, 'manifestation': 3259, 'slight': 4895, 'whiff': 5967, 'privileged': 4151, 'artistry': 307, 'terribly': 5404, 'unkind': 5712, 'span': 5025, 'font': 2087, 'size': 4873, 'programme': 4174, 'placce': 3989, 'nasty': 3556, 'outright': 3779, 'remark': 4427, 'colleague': 963, 'compliment': 1023, 'deplete': 1362, 'mental': 3350, 'checklist': 843, 'someone': 4988, 'spiritual': 5054, 'intellectual': 2783, 'progress': 4176, 'exert': 1863, 'important': 2666, 'energy': 1737, 'pleasant': 4009, 'vibration': 5827, 'hand': 2401, 'peter': 3940, 'recent': 4342, 'interest': 2798, 'decidedly': 1301, 'egalitarian': 1661, 'feminist': 1986, 'jonalyn': 2921, 'fincher': 2016, 'soulation': 5011, 'list': 3144, 'leanne': 3068, 'appal': 261, 'justify': 2952, 'behavior': 483, 'faithful': 1919, 'reader': 4322, 'sooo': 5000, 'devin': 1409, 'profoundly': 4172, 'sign': 4837, 'courage': 1148, 'round': 4567, 'md': 3313, 'teen': 5376, 'offer': 3707, 'guidance': 2368, 'support': 5261, 'img': 2652, 'aligncenter': 152, 'wp': 6061, 'src': 5091, 'mrdanbaird': 3490, 'bashful': 445, 'milestone': 3387, 'race': 4274, 'novice': 3659, 'social': 4960, 'diktat': 1440, 'authority': 370, 'worry': 6050, 'computer': 1029, 'party': 3861, 'roommate': 4558, 'criticism': 1198, 'lunch': 3222, 'stink': 5145, 'somebody': 4986, 'comment': 992, 'embarrassed': 1690, 'powerlessness': 4077, 'tizzy': 5491, 'haagen': 2382, 'dazs': 1286, 'default': 1314, 'smile': 4919, 'tug': 5615, 'lip': 3141, 'speech': 5039, 'successful': 5224, 'uplifting': 5758, 'prop': 4188, 'graduate': 2317, 'combination': 978, 'jaw': 2894, 'jam': 2883, 'excessive': 1847, 'noseband': 3648, 'considerable': 1068, 'metal': 3365, 'mouth': 3484, 'overall': 3786, 'disrupt': 1505, 'grim': 2346, 'honored': 2549, 'kassim': 2961, 'selamat': 4706, 'swallow': 5289, 'sip': 4864, 'sensation': 4721, 'iced': 2623, 'capp': 750, 'queen': 4252, 'nation': 3558, 'miscreant': 3407, 'exactly': 1834, 'immediately': 2655, 'comeback': 983, 'rapture': 4305, 'sociable': 4959, 'bore': 608, 'restless': 4493, 'sob': 4956, 'ache': 46, 'longing': 3180, 'settle': 4749, 'weariness': 5933, 'slip': 4899, 'shoulder': 4814, 'unwelcome': 5748, 'notice': 3653, 'please': 4010, 'fabric': 1905, 'project': 4177, 'personally': 3932, 'millennia': 3391, 'brainstorm': 630, 'particular': 3857, 'vice': 5829, 'blogge': 571, 'check': 842, 'aggravate': 115, 'career': 760, 'goal': 2287, 'creatively': 1182, 'stimulating': 5143, 'fulfil': 2173, 'teaching': 5365, 'confident': 1049, 'education': 1656, 'irate': 2839, 'idiot': 2631, 'bunch': 692, 'weren': 5957, 'nick': 3617, 'snake': 4931, 'truly': 5599, 'brooklyn': 662, 'latch': 3040, 'bottle': 616, 'skip': 4881, 'exercise': 1862, 'energized': 1736, 'assumption': 336, 'inform': 2727, 'marry': 3284, 'xbla': 6079, 'sony': 4998, 'handheld': 2406, 'shaun': 4774, 'dlpt': 1537, 'suppose': 5264, 'lady': 3020, 'remix': 4435, 'cash': 774, 'protect': 4196, 'belonging': 498, 'laundering': 3048, 'compare': 1008, 'childlike': 862, 'silly': 4843, 'smoothly': 4926, 'interested': 2799, 'gfather': 2251, 'ute': 5781, 'load': 3160, 'shit': 4789, 'prefer': 4104, 'manure': 3268, 'version': 5820, 'compost': 1025, 'classroom': 901, 'joke': 2919, 'strange': 5162, 'pack': 3813, 'close': 928, 'secondary': 4691, 'age': 112, 'usual': 5778, 'oh': 3714, 'costly': 1133, 'futile': 2191, 'therapy': 5432, 'wryly': 6073, 'banal': 424, 'comedy': 984, 'error': 1788, 'diet': 1428, 'coke': 958, 'swimming': 5302, 'mousekin': 3483, 'listener': 3146, 'giant': 2252, 'glass': 2270, 'vigilant': 5839, 'sand': 4621, 'whoosh': 5986, 'dipshit': 1449, 'varnish': 5800, 'frightened': 2154, 'document': 1541, 'enter': 1756, 'clinic': 922, 'ivory': 2874, 'theme': 5427, 'furniture': 2188, 'clean': 905, 'spacious': 5023, 'professional': 4168, 'cheerful': 846, 'consultant': 1084, 'await': 378, 'reception': 4344, 'coz': 1158, 'intentional': 2792, 'ungrateful': 5694, 'inconsiderate': 2694, 'alexis': 148, 'pissed': 3986, 'bite': 540, 'fucking': 2170, 'log': 3168, 'frickin': 2145, 'importantly': 2667, 'calmed': 732, 'possible': 4062, 'shot': 4811, 'difference': 1430, 'condition': 1041, 'worker': 6042, 'express': 1889, 'acceptable': 28, 'fail': 1913, 'discourage': 1477, 'mistake': 3418, 'simply': 4850, 'survive': 5281, 'trauma': 5563, 'seoul': 4730, 'sentence': 4727, 'derek': 1371, 'blah': 550, 'assert': 325, 'range': 4298, 'select': 4708, 'spray': 5074, 'expose': 1888, 'variant': 5799, 'hide': 2506, 'slap': 4886, 'upside': 5764, 'clay': 904, 'limit': 3132, 'mastery': 3299, 'motivated': 3472, 'workout': 6045, 'lense': 3090, 'blue': 579, 'laughter': 3046, 'weigh': 5948, 'heavy': 2477, 'student': 5194, 'display': 1500, 'intellect': 2782, 'irritation': 2853, 'anger': 206, 'twitch': 5630, 'swell': 5299, 'quiver': 4268, 'quick': 4259, 'thank': 5419, 'toby': 5493, 'tunji': 5618, 'boyfriend': 625, 'split': 5062, 'confrontation': 1052, 'arouse': 292, 'part': 3853, 'stand': 5106, 'realize': 4332, 'fast': 1945, 'thinking': 5441, 'timing': 5479, 'fold': 2082, 'synthetic': 5314, 'pearl': 3896, 'elegant': 1677, 'jewelry': 2911, 'trinket': 5586, 'directly': 1453, 'suffocated': 5236, 'challenging': 817, 'wrap': 6062, 'closure': 932, 'conclusion': 1038, 'doesn': 1543, 'annulment': 228, 'case': 773, 'brazil': 635, 'bus': 705, 'steep': 5129, 'mountain': 3480, 'fall': 1922, 'julian': 2944, 'sort': 5008, 'vibe': 5825, 'willy': 6003, 'nilly': 3627, 'idreamculture': 2635, 'apart': 249, 'having': 2450, 'overtly': 3799, 'public': 4214, 'pretend': 4124, 'bothered': 614, 'escort': 1793, 'relative': 4404, 'bike': 525, 'instinctively': 2774, 'pleased': 4011, 'passer': 3864, 'example': 1839, 'saint': 4610, 'beauty': 470, 'angel': 205, 'quit': 4266, 'base': 443, 'scar': 4648, 'injury': 2739, 'aren': 284, 'cutting': 1246, 'rid': 4520, 'conceal': 1030, 'venerable': 5811, 'advantage': 90, 'cycle': 1249, 'craving': 1173, 'drive': 1589, 'binge': 529, 'guilty': 2371, 'conscience': 1062, 'medical': 3328, 'assistant': 332, 'moaning': 3429, 'bathroom': 453, 'cluttered': 943, 'relate': 4400, 'spa': 5021, 'treatment': 5571, 'neighbour': 3588, 'muze': 3526, 'mujhe': 3501, 'hey': 2502, 'kay': 2967, 'zay': 6118, 'dinner': 1447, 'valued': 5797, 'diary': 1421, 'add': 66, 'college': 967, 'productivity': 4167, 'gear': 2220, 'chalk': 815, 'train': 5543, 'army': 291, 'pigeon': 3971, 'tiny': 5481, 'uninhabited': 5702, 'island': 2857, 'capable': 748, 'depressed': 1366, 'gratitude': 2331, 'general': 2227, 'pump': 4221, 'yearning': 6094, 'semblance': 4715, 'normality': 3644, 'dancing': 1265, 'arab': 281, 'fully': 2178, 'armed': 289, 'soldier': 4975, 'tugging': 5616, 'relieve': 4416, 'musical': 3520, 'taste': 5350, 'wander': 5897, 'techno': 5373, 'slander': 4885, 'tradition': 5536, 'stranger': 5164, 'door': 1556, 'message': 3362, 'lifestyle': 3116, 'vile': 5841, 'traitor': 5547, 'hardly': 2427, 'weekend': 5945, 'jot': 2926, 'sympathy': 5311, 'hussein': 2609, 'thug': 5458, 'administration': 75, 'street': 5170, 'irrationally': 2845, 'amazingness': 174, 'blogger': 572, 'perfectly': 3913, 'organize': 3760, 'plant': 3997, 'worth': 6052, 'positively': 4058, 'film': 2008, 'argue': 286, 'effect': 1657, 'verdict': 5816, 'sewing': 4752, 'schedule': 4660, 'thankful': 5420, 'whoop': 5985, 'holler': 2528, 'suitably': 5242, 'jubilant': 2936, 'tad': 5323, 'constipate': 1078, 'yhhhay': 6101, 'naight': 3539, 'necessary': 3575, 'newborn': 3608, 'photograph': 3955, 'bald': 418, 'blonde': 575, 'sneha': 4937, 'sheri': 4781, 'king': 2988, 'switch': 5305, 'doctor': 1540, 'assume': 335, 'water': 5924, 'frozen': 2161, 'plenty': 4013, 'feed': 1972, 'eschew': 1792, 'favor': 1954, 'forage': 2095, 'drain': 1578, 'defense': 1317, 'persom': 3926, 'wickdly': 5988, 'dlk': 1536, 'marvel': 3287, 'humble': 2593, 'stare': 5111, 'drink': 1587, 'pot': 4066, 'coffee': 953, 'triumphant': 5590, 'consist': 1071, 'poop': 4042, 'lovely': 3205, 'resource': 4483, 'hum': 2590, 'warmth': 5909, 'leg': 3078, 'shift': 4783, 'gain': 2196, 'quake': 4244, 'boat': 585, 'shore': 4805, 'capacity': 749, 'producer': 4163, 'actor': 61, 'david': 1280, 'onscreen': 3732, 'box': 623, 'horrible': 2564, 'anymore': 245, 'immedietly': 2656, 'wal': 5887, 'mart': 3285, 'description': 1375, 'soft': 4971, 'concept': 1032, 'lit': 3148, 'redundant': 4368, 'credential': 1186, 'damage': 1259, 'wristwatch': 6066, 'violence': 5850, 'opportunity': 3743, 'hell': 2487, 'favorite': 1956, 'table': 5320, 'tournament': 5528, 'deck': 1303, 'possibly': 4063, 'zendikar': 6120, 'rotate': 4562, 'ou': 3766, 'competition': 1015, 'state': 5119, 'squad': 5083, 'rain': 4286, 'squeal': 5086, 'glee': 2272, 'mud': 3497, 'squish': 5090, 'toe': 5498, 'outdoors': 3770, 'quixote': 4270, 'blinding': 564, 'windmill': 6009, 'eventual': 1820, 'marriage': 3282, 'seemad': 4701, 'odd': 3699, 'grandfather': 2322, 'fuel': 2171, 'fire': 2024, 'budget': 681, 'spreadsheet': 5076, 'someplace': 4989, 'stupid': 5201, 'government': 2307, 'gulp': 2374, 'tired': 5485, 'intelligent': 2786, 'teacher': 5364, 'sweat': 5291, 'finally': 2012, 'position': 4056, 'indulge': 2714, 'jubilation': 2937, 'claim': 893, 'bar': 436, 'explorer': 1886, 'enuff': 1772, 'stairs': 5103, 'bedroom': 474, 'baffroom': 409, 'bitterly': 542, 'unfair': 5682, 'driver': 1590, 'spazze': 5032, 'stomach': 5151, 'ibleeditout': 2620, 'kodi': 3007, 'brat': 633, 'choir': 872, 'venue': 5814, 'foundry': 2119, 'childhood': 860, 'humor': 2598, 'shield': 4782, 'bay': 458, 'appearance': 267, 'wherewithal': 5966, 'put': 4239, 'meantime': 3320, 'fun': 2179, 'suspicion': 5284, 'negativity': 3584, 'large': 3036, 'stud': 5193, 'attach': 351, 'decorative': 1306, 'stitch': 5148, 'visible': 5859, 'warm': 5906, 'muscle': 3517, 'midst': 3379, 'quirky': 4265, 'int': 2779, 'generational': 2231, 'regular': 4389, 'accomplish': 36, 'epic': 1781, 'feat': 1963, 'breathing': 642, 'steroid': 5136, 'clueless': 939, 'homesick': 2539, 'andover': 200, 'discussion': 1480, 'partly': 3859, 'persistent': 3925, 'nonsense': 3638, 'advertising': 93, 'petrify': 3943, 'someway': 4992, 'mask': 3293, 'divert': 1529, 'weakness': 5929, 'constructive': 1082, 'envision': 1779, 'intend': 2787, 'vision': 5861, 'horribly': 2565, 'tragic': 5540, 'transpire': 5558, 'research': 4467, 'renovation': 4442, 'mammoth': 3253, 'blessed': 562, 'blessing': 563, 'recognition': 4352, 'resonate': 4481, 'uncaring': 5655, 'exist': 1870, 'heavenly': 2475, 'father': 1950, 'guilt': 2370, 'embrace': 1693, 'beginning': 480, 'janine': 2888, 'achievement': 49, 'lisa': 3143, 'morris': 3463, 'quickly': 4260, 'closet': 930, 'tip': 5482, 'imdoe': 2651, 'punch': 4224, 'single': 4860, 'surrounding': 5279, 'myriad': 3528, 'ashton': 314, 'isaac': 2854, 'involve': 2834, 'pro': 4153, 'active': 57, 'award': 380, 'bothersome': 615, 'lab': 3013, 'rat': 4309, 'exceptionally': 1846, 'tomorrow': 5505, 'monday': 3445, 'timetable': 5477, 'clever': 915, 'concert': 1035, 'previous': 4129, 'arrive': 297, 'zealand': 6119, 'overseas': 3797, 'exhilarate': 1867, 'scenery': 4656, 'gut': 2377, 'laetshi': 3021, 'fluster': 2073, 'shitty': 4790, 'aspect': 320, 'impression': 2675, 'everything': 1826, 'statement': 5120, 'co': 945, 'ridiculous': 4524, 'colourful': 975, 'phrase': 3957, 'asleep': 319, 'tongue': 5508, 'heave': 2473, 'sigh': 4835, 'doubt': 1566, 'save': 4641, 'lightly': 3122, 'ear': 1625, 'secret': 4692, 'sloth': 4905, 'altitude': 169, 'customer': 1242, 'assure': 337, 'bright': 649, 'ocean': 3697, 'freaking': 2132, 'crash': 1171, 'majority': 3244, 'earth': 1629, 'immense': 2657, 'proto': 4201, 'corner': 1122, 'agent': 114, 'publishing': 4217, 'contract': 1097, 'garbage': 2207, 'allergy': 157, 'cancel': 740, 'quietly': 4262, 'ecstatic': 1649, 'painless': 3822, 'grocery': 2350, 'expense': 1876, 'being': 487, 'recognize': 4353, 'essentially': 1799, 'america': 181, 'iteration': 2871, 'junior': 2947, 'designer': 1378, 'consideration': 1070, 'anxiously': 243, 'bear': 464, 'ww': 6075, 'pregnancy': 4106, 'lazy': 3061, 'video': 5834, 'writing': 6069, 'ready': 4326, 'presence': 4113, 'ruach': 4572, 'hakodesh': 2394, 'holy': 2532, 'oooh': 3734, 'proof': 4187, 'scene': 4655, 'pride': 4133, 'nonchalant': 3636, 'easi': 1634, 'extreme': 1898, 'solution': 4983, 'average': 376, 'invigorate': 2830, 'dwell': 1620, 'episode': 1783, 'scare': 4649, 'agiatate': 118, 'sis': 4866, 'darn': 1273, 'geek': 2221, 'amy': 193, 'occasionally': 3693, 'reset': 4473, 'guard': 2365, 'mount': 3479, 'hubby': 2584, 'join': 2918, 'agree': 124, 'friendly': 2149, 'flight': 2055, 'pe': 3891, 'lestat': 3098, 'integrity': 2781, 'intact': 2780, 'sane': 4624, 'beneath': 503, 'wobbly': 6029, 'savage': 4640, 'wax': 5926, 'doll': 1546, 'cloud': 935, 'blow': 577, 'tak': 5327, 'bare': 439, 'till': 5472, 'racial': 4276, 'religious': 4419, 'slur': 4910, 'aim': 132, 'facebook': 1908, 'update': 5756, 'thirty': 5442, 'lush': 3228, 'recall': 4339, 'grey': 2343, 'sky': 4883, 'cautious': 788, 'nominate': 3633, 'journey': 2930, 'kick': 2979, 'coulter': 1139, 'ed': 1650, 'schultz': 4664, 'viewer': 5838, 'outrage': 3777, 'collective': 966, 'tirade': 5483, 'combine': 979, 'flat': 2038, 'tire': 5484, 'wound': 6058, 'headless': 2456, 'bird': 533, 'ya': 6088, 'allah': 156, 'puff': 4218, 'glamourous': 2266, 'naked': 3542, 'enormous': 1750, 'flamingo': 2036, 'fight': 2003, 'disease': 1483, 'uncontrollably': 5663, 'independence': 2706, 'operation': 3740, 'badly': 406, 'unprotected': 5725, 'safety': 4605, 'net': 3600, 'socket': 4966, 'unintentionally': 5703, 'outfits': 3773, 'libertine': 3109, 'depend': 1360, 'partner': 3860, 'taunt': 5356, 'ability': 9, 'frailty': 2124, 'exterior': 1894, 'existance': 1871, 'masculinity': 3292, 'relived': 4421, 'truely': 5597, 'allow': 160, 'targeted': 5347, 'song': 4995, 'logistic': 3170, 'non': 3635, 'loving': 3207, 'forum': 2115, 'unmentione': 5718, 'narrative': 3553, 'unity': 5707, 'include': 2691, 'highlight': 2509, 'teddy': 5374, 'attractive': 359, 'unleash': 5715, 'fromthe': 2159, 'virgin': 5854, 'artist': 305, 'entire': 1764, 'obnoxious': 3683, 'vocab': 5869, 'hint': 2516, 'shockingly': 4795, 'amazing': 172, 'cesspool': 807, 'mysterious': 3529, 'sea': 4684, 'intimately': 2812, 'buoy': 696, 'surrender': 5277, 'transcendent': 5552, 'surge': 5271, 'singapore': 4857, 'sara': 4627, 'div': 1527, 'clearboth': 910, 'padding': 3816, 'flounder': 2069, 'alway': 171, 'elusively': 1685, 'fairy': 1917, 'deliver': 1341, 'festive': 1989, 'wipe': 6018, 'mentally': 3352, 'brain': 628, 'pic': 3963, 'cam': 733, 'newton': 3612, 'panther': 3834, 'prime': 4136, 'broom': 663, 'scrub': 4682, 'brush': 673, 'vinegar': 5846, 'newspaper': 3611, 'embed': 1691, 'deke': 1332, 'fuckin': 2169, 'stair': 5102, 'rediculous': 4366, 'reilly': 4393, 'dear': 1292, 'soul': 5010, 'something': 4991, 'soda': 4967, 'turbulently': 5619, 'violently': 5852, 'container': 1089, 'exchange': 1848, 'freedom': 2135, 'decade': 1297, 'ahead': 128, 'vanquish': 5798, 'england': 1741, 'failure': 1914, 'similar': 4845, 'hopeless': 2559, 'regard': 4383, 'serve': 4744, 'north': 3646, 'pole': 4027, 'ti': 5461, 'jade': 2881, 'prone': 4185, 'spencer': 5043, 'secretary': 4693, 'eh': 1666, 'beholder': 485, 'matty': 3307, 'sing': 4856, 'feels': 1979, 'happiness': 2418, 'eternity': 1804, 'obligate': 3679, 'sensitive': 4726, 'furious': 2187, 'advocate': 96, 'lobby': 3163, 'politician': 4036, 'sympathic': 5309, 'amazingly': 173, 'chill': 863, 'ativan': 346, 'faith': 1918, 'dream': 1585, 'policeman': 4029, 'search': 4685, 'normal': 3643, 'pre': 4093, 'celebration': 796, 'softball': 4972, 'ge': 2219, 'seriously': 4741, 'indonesia': 2712, 'everchanging': 1822, 'sailormoon': 4609, 'gateway': 2213, 'menswear': 3349, 'venture': 5813, 'chaste': 836, 'urge': 5767, 'smack': 4912, 'olivia': 3722, 'cow': 1156, 'gabriella': 2194, 'btw': 676, 'legend': 3082, 'xd': 6080, 'hilarious': 2514, 'badass': 405, 'dork': 1560, 'consume': 1085, 'stoned': 5153, 'endorphin': 1728, 'meat': 3322, 'comprehend': 1026, 'nuclear': 3663, 'weapon': 5931, 'protest': 4200, 'riot': 4534, 'police': 4028, 'response': 4488, 'projector': 4178, 'smell': 4917, 'displease': 1501, 'musty': 3525, 'early': 1626, 'visitor': 5863, 'journal': 2927, 'ball': 420, 'sore': 5005, 'impending': 2660, 'ensue': 1754, 'repress': 4458, 'instigate': 2772, 'emphasize': 1706, 'highly': 2510, 'english': 1742, 'prom': 4180, 'straight': 5158, 'blood': 576, 'boil': 592, 'nerve': 3593, 'encode': 1720, 'utf': 5782, 'locale': 3165, 'en': 1715, 'isprivate': 2863, 'false': 1923, 'ismobile': 2858, 'mobileclass': 3430, 'isprivateblog': 2864, 'languagedirection': 3031, 'ltr': 3213, 'feedlink': 1975, 'application': 269, 'atom': 349, 'xml': 6084, 'ovation': 3784, 'karen': 2960, 'front': 2160, 'subcontinent': 5210, 'despite': 1388, 'paper': 3836, 'cynicism': 1251, 'fortunate': 2114, 'club': 937, 'dose': 1563, 'remorse': 4437, 'corinthian': 1121, 'relish': 4420, 'squelch': 5088, 'stack': 5096, 'here': 2494, 'offering': 3708, 'graphic': 2327, 'curtain': 1239, 'winston': 6014, 'churchill': 883, 'quote': 4271, 'repercussion': 4450, 'worthless': 6053, 'previously': 4130, 'ebay': 1642, 'fish': 2027, 'thin': 5438, 'dejected': 1331, 'main': 3240, 'qualified': 4246, 'observation': 3684, 'raphael': 4302, 'laiya': 3022, 'jennifer': 2903, 'scamper': 4646, 'introduce': 2817, 'sponsor': 5067, 'bake': 415, 'intentionally': 2794, 'sun': 5249, 'shine': 4785, 'grip': 2348, 'unkindness': 5713, 'selfishness': 4713, 'require': 4463, 'distorted': 1516, 'handmade': 2408, 'slack': 4884, 'toilet': 5500, 'abruptly': 15, 'la': 3012, 'sunday': 5250, 'brunch': 672, 'trumpeter': 5600, 'waldo': 5888, 'carter': 770, 'startle': 5114, 'flinch': 2057, 'mood': 3452, 'shoot': 4799, 'clock': 927, 'short': 4806, 'daylight': 1285, 'winter': 6015, 'brief': 648, 'tax': 5357, 'mail': 3237, 'jason': 2893, 'employer': 1709, 'going': 2291, 'on': 3726, 'coronation': 1125, 'georgia': 2244, 'serif': 4739, 'px': 4242, 'height': 2484, 'deadline': 1289, 'note': 3651, 'mass': 3294, 'talent': 5333, 'etsy': 1806, 'moz': 3489, 'uncertainty': 5657, 'concidence': 1036, 'vienna': 5836, 'specially': 5035, 'theofilou': 5429, 'nod': 3629, 'agreement': 125, 'kastrioti': 2962, 'board': 583, 'daydream': 1284, 'bet': 512, 'costume': 1134, 'todd': 5496, 'caleb': 722, 'frustration': 2167, 'news': 3610, 'tracy': 5533, 'chapter': 825, 'rushed': 4587, 'feedback': 1973, 'omit': 3725, 'questionable': 4257, 'adult': 86, 'nyps': 3675, 'webpage': 5939, 'compassion': 1011, 'metaphorically': 3368, 'small': 4913, 'frame': 2125, 'audience': 363, 'creativity': 1183, 'bullying': 688, 'defensive': 1318, 'hang': 2412, 'city': 890, 'parallel': 3839, 'sucker': 5228, 'grand': 2320, 'endless': 1727, 'battle': 456, 'apparent': 263, 'evil': 1829, 'discernment': 1468, 'conveniently': 1102, 'uninformed': 5701, 'specific': 5036, 'apartment': 250, 'claustrophobic': 902, 'rotten': 4563, 'apple': 268, 'complacent': 1016, 'smart': 4914, 'prompt': 4183, 'witness': 6026, 'sadistic': 4600, 'road': 4542, 'burmeister': 700, 'supposedly': 5265, 'hidden': 2505, 'msg': 3493, 'motivate': 3471, 'shafted': 4759, 'skilled': 4877, 'presentational': 4116, 'acting': 55, 'background': 398, 'wilder': 5997, 'desk': 1381, 'ass': 321, 'weight': 5949, 'un': 5647, 'emo': 1699, 'react': 4318, 'possibility': 4061, 'examination': 1837, 'upcoming': 5755, 'sight': 4836, 'sound': 5013, 'poll': 4037, 'market': 3280, 'soulmate': 5012, 'chemistry': 849, 'unlike': 5716, 'hopelessly': 2560, 'delighted': 1340, 'pathetic': 3875, 'thigh': 5437, 'rate': 4310, 'burden': 697, 'nursing': 3670, 'nurse': 3668, 'boo': 601, 'friggety': 2151, 'hoo': 2552, 'personnel': 3933, 'irritate': 2851, 'ipad': 2836, 'biannual': 518, 'mammogram': 3252, 'unusually': 5745, 'deliberate': 1335, 'shall': 4763, 'tactic': 5322, 'discuss': 1479, 'automatically': 373, 'trope': 5593, 'horror': 2567, 'fiction': 1997, 'fascinated': 1941, 'university': 5710, 'administrator': 76, 'readmit': 4325, 'collin': 969, 'finnerty': 2023, 'jan': 2886, 'swing': 5304, 'palm': 3828, 'perceive': 3909, 'floor': 2064, 'antsy': 240, 'petition': 3941, 'office': 3709, 'alight': 151, 'hotel': 2574, 'bellman': 495, 'appreciative': 274, 'patronize': 3881, 'layer': 3057, 'belief': 489, 'sincerity': 4855, 'impolite': 2664, 'katanya': 2963, 'pose': 4055, 'cutesy': 1245, 'vintage': 5849, 'idle': 2633, 'photo': 3954, 'eternal': 1802, 'socialize': 4962, 'centre': 802, 'becasue': 471, 'critical': 1197, 'dennis': 1353, 'covington': 1155, 'closing': 931, 'business': 706, 'herzog': 2498, 'medium': 3336, 'influence': 2725, 'brad': 627, 'looks': 3185, 'retail': 4496, 'roller': 4552, 'coaster': 947, 'craziness': 1175, 'throne': 5455, 'recite': 4348, 'mantra': 3266, 'shiftless': 4784, 'contribute': 1099, 'success': 5223, 'ignore': 2639, 'contribution': 1100, 'apply': 270, 'moody': 3453, 'slow': 4907, 'browse': 669, 'booth': 607, 'dart': 1274, 'overcome': 3787, 'refer': 4371, 'guitar': 2372, 'hero': 2495, 'lol': 3171, 'outta': 3781, 'paratrooper': 3844, 'useful': 5773, 'mission': 3416, 'footing': 2094, 'ton': 5506, 'program': 4173, 'prospect': 4194, 'suitcase': 5243, 'dvds': 1619, 'devote': 1411, 'spending': 5045, 'loathing': 3162, 'sink': 4862, 'unwarranted': 5747, 'unnecessary': 5721, 'depression': 1367, 'supremely': 5267, 'livejournal': 3154, 'feature': 1964, 'enable': 1716, 'thoroughly': 5444, 'trailer': 5542, 'delve': 1344, 'unworthy': 5751, 'fan': 1929, 'boring': 610, 'assignment': 330, 'hop': 2555, 'tried': 5581, 'trusty': 5603, 'busy': 707, 'mince': 3393, 'british': 654, 'xmas': 6083, 'goodie': 2299, 'kj': 2995, 'bookmark': 604, 'permalink': 3920, 'nov': 3656, 'middot': 3377, 'contented': 1092, 'build': 684, 'birth': 534, 'repeat': 4447, 'motorway': 3476, 'telephone': 5381, 'educate': 1655, 'laze': 3059, 'pajama': 3825, 'blunt': 580, 'relation': 4402, 'simultaneously': 4852, 'superior': 5256, 'inferior': 2722, 'reassure': 4336, 'product': 4164, 'exciting': 1853, 'kitchen': 2992, 'endeavor': 1725, 'occasional': 3692, 'musing': 3523, 'wrongly': 6072, 'sicken': 4828, 'lance': 3027, 'caption': 751, 'making': 3248, 'folk': 2083, 'devotee': 1413, 'eagerly': 1623, 'andri': 202, 'abroad': 14, 'ultimately': 5644, 'tbh': 5359, 'platitude': 4002, 'meaning': 3317, 'similarity': 4846, 'chase': 834, 'elevated': 1680, 'lexicon': 3104, 'gigantic': 2254, 'spider': 5048, 'enraged': 1752, 'soothe': 5003, 'nowwwwww': 3660, 'gradually': 2316, 'pacify': 3812, 'disappear': 1462, 'coordinate': 1115, 'downer': 1570, 'mess': 3361, 'elated': 1671, 'plunge': 4017, 'misery': 3409, 'tend': 5390, 'scrapbook': 4673, 'citizen': 889, 'india': 2708, 'recognise': 4351, 'barely': 440, 'term': 5400, 'likelihood': 3126, 'banana': 425, 'breakfast': 637, 'roast': 4544, 'tea': 5362, 'veer': 5806, 'stereotype': 5135, 'intrusion': 2819, 'glue': 2281, 'criticize': 1199, 'praise': 4086, 'ought': 3767, 'wee': 5943, 'backward': 402, 'bleed': 557, 'predict': 4101, 'angle': 209, 'gallow': 2199, 'tight': 5469, 'force': 2096, 'agnostic': 121, 'atheist': 343, 'judeo': 2938, 'fundamentalist': 2182, 'excitement': 1852, 'warrick': 5914, 'incredible': 2701, 'naivety': 3541, 'stupidity': 5202, 'tuck': 5612, 'strand': 5161, 'escape': 1791, 'tickle': 5465, 'cheek': 844, 'dam': 1258, 'lake': 3023, 'aubrey': 361, 'baptism': 434, 'knowledge': 3006, 'baptize': 435, 'sweetly': 5297, 'alarmed': 139, 'hospital': 2569, 'offensive': 3706, 'nearly': 3573, 'source': 5017, 'apathy': 252, 'friday': 2146, 'invade': 2823, 'recur': 4360, 'land': 3028, 'subconscious': 5208, 'easter': 1636, 'lifetime': 3117, 'fandom': 1931, 'vip': 5853, 'sticker': 5138, 'rustle': 4592, 'flagellate': 2032, 'albino': 143, 'priest': 4134, 'demon': 1347, 'suspect': 5282, 'caffeine': 718, 'withdrawal': 6025, 'system': 5315, 'eating': 1641, 'nvm': 3674, 'deliberation': 1336, 'spot': 5071, 'tour': 5526, 'intimidated': 2814, 'realistic': 4329, 'football': 2093, 'sport': 5070, 'invite': 2833, 'ministry': 3401, 'consciously': 1064, 'replace': 4451, 'contemplate': 1090, 'andintrupte': 199, 'trad': 5534, 'trash': 5562, 'bagan': 411, 'shiver': 4791, 'enrich': 1753, 'perfume': 3916, 'collection': 965, 'haha': 2390, 'apologize': 258, 'sorry': 5007, 'definately': 1321, 'solidarity': 4980, 'americans': 183, 'iraq': 2838, 'prisoner': 4144, 'stripping': 5180, 'bill': 526, 'flesh': 2050, 'flutter': 2074, 'scenario': 4654, 'prolonged': 4179, 'physical': 3958, 'sex': 4753, 'subsequently': 5215, 'luckily': 3214, 'standby': 5108, 'emoticon': 1700, 'awkward': 389, 'oppose': 3744, 'specifically': 5037, 'dictate': 1425, 'med': 3324, 'reduce': 4367, 'risk': 4539, 'describe': 1374, 'dominican': 1549, 'republic': 4461, 'illustrate': 2645, 'exhausted': 1865, 'painful': 3821, 'fanatic': 1930, 'clench': 913, 'impotent': 2671, 'command': 991, 'proper': 4189, 'amish': 184, 'punctual': 4225, 'tv': 5625, 'nellie': 3589, 'rang': 4297, 'leslie': 3094, 'activity': 60, 'foreboding': 2097, 'paige': 3819, 'charm': 832, 'intensely': 2789, 'conscious': 1063, 'envelope': 1774, 'seemingly': 4702, 'excruciate': 1855, 'manage': 3255, 'fiance': 1995, 'rare': 4306, 'exception': 1844, 'aesthetic': 97, 'possession': 4060, 'clothe': 933, 'wary': 5916, 'reading': 4323, 'survey': 5280, 'onel': 3730, 'creator': 1184, 'wall': 5892, 'eminent': 1697, 'patriotic': 3880, 'deed': 1308, 'urgency': 5768, 'curse': 1238, 'bang': 429, 'goodbye': 2298, 'fam': 1925, 'crying': 1219, 'needle': 3580, 'phase': 3948, 'graduation': 2318, 'basis': 448, 'euphoria': 1809, 'becuz': 472, 'cuz': 1247, 'badman': 407, 'ah': 126, 'fangirl': 1933, 'nipping': 3628, 'nose': 3647, 'thick': 5436, 'town': 5529, 'inch': 2687, 'separate': 4731, 'behave': 482, 'culturally': 1224, 'worthy': 6055, 'season': 4686, 'vaguely': 5789, 'reel': 4370, 'forth': 2112, 'shackle': 4757, 'norm': 3642, 'star': 5110, 'upbeat': 5754, 'poetry': 4022, 'carby': 756, 'low': 3208, 'glycemic': 2283, 'meal': 3315, 'dessert': 1390, 'tranquil': 5550, 'eloquent': 1682, 'array': 295, 'legard': 3081, 'greg': 2342, 'exboyfriend': 1840, 'shout': 4816, 'midnight': 3378, 'pin': 3974, 'fault': 1952, 'counsellor': 1142, 'vote': 5877, 'apologise': 257, 'following': 2086, 'examine': 1838, 'dimple': 1442, 'sag': 4606, 'yes': 6099, 'shame': 4765, 'science': 4665, 'indulgent': 2716, 'discontent': 1476, 'solemn': 4977, 'benefit': 506, 'render': 4440, 'thearchitecturality': 5425, 'utopian': 5783, 'garage': 2206, 'strive': 5181, 'subtly': 5219, 'haul': 2446, 'lava': 3050, 'planet': 3994, 'export': 1887, 'port': 4049, 'fairly': 1916, 'condone': 1042, 'method': 3369, 'achieve': 48, 'clumsy': 940, 'crowd': 1205, 'addition': 69, 'hihi': 2512, 'maintain': 3242, 'develop': 1406, 'albeit': 142, 'riku': 4529, 'plot': 4015, 'ish': 2855, 'unknown': 5714, 'autumn': 374, 'spouse': 5073, 'shire': 4787, 'reunite': 4503, 'field': 2000, 'london': 3175, 'unconsciously': 5662, 'subconsciously': 5209, 'area': 283, 'destruction': 1396, 'vent': 5812, 'ipod': 2837, 'suit': 5241, 'tune': 5617, 'rev': 4504, 'nuance': 3662, 'presentation': 4115, 'trigger': 5582, 'psychotic': 4212, 'lecture': 3074, 'deny': 1357, 'realise': 4328, 'leather': 3072, 'sandal': 4622, 'grayish': 2334, 'significant': 4838, 'hemorrhoid': 2491, 'major': 3243, 'cleaning': 907, 'instance': 2768, 'attract': 358, 'pulse': 4220, 'argument': 287, 'disappointed': 1464, 'tough': 5525, 'mudder': 3498, 'rip': 4535, 'reactive': 4320, 'wronged': 6071, 'xs': 6086, 'bias': 519, 'bible': 520, 'themed': 5428, 'anthology': 235, 'intelligence': 2785, 'service': 4745, 'youth': 6110, 'wisely': 6021, 'nd': 3570, 'vlog': 5868, 'balk': 419, 'soup': 5015, 'object': 3678, 'identity': 2628, 'mild': 3384, 'bandaid': 427, 'better': 514, 'crush': 1214, 'mate': 3302, 'voice': 5871, 'surprisingly': 5276, 'idiocy': 2629, 'bored': 609, 'fastforwarding': 1946, 'review': 4511, 'contradictory': 1098, 'conspiracy': 1075, 'theory': 5430, 'unsolved': 5736, 'crime': 1192, 'hugely': 2588, 'vital': 5864, 'full': 2177, 'potential': 4068, 'email': 1686, 'scott': 4671, 'dale': 1256, 'frusterate': 2164, 'naman': 3545, 'na': 3535, 'opening': 3737, 'passage': 3863, 'singular': 4861, 'fetched': 1991, 'impossible': 2669, 'pinnacle': 3979, 'materialistic': 3304, 'physics': 3960, 'midterm': 3380, 'vault': 5803, 'quilting': 4264, 'brotherhood': 665, 'qualify': 4247, 'offence': 3701, 'delhi': 1334, 'punjabi': 4228, 'dazzle': 1287, 'cert': 804, 'whilst': 5968, 'mum': 3507, 'investment': 2829, 'category': 781, 'bombing': 596, 'coca': 949, 'cola': 959, 'communicate': 1000, 'terrifying': 5408, 'everyday': 1824, 'rough': 4566, 'correctly': 1128, 'idk': 2632, 'westerner': 5959, 'mediation': 3327, 'freely': 2136, 'inevitably': 2719, 'delay': 1333, 'building': 685, 'inspired': 2765, 'mindset': 3396, 'dizzy': 1535, 'throat': 5453, 'coloured': 974, 'lipstick': 3142, 'bold': 594, 'natasha': 3557, 'gan': 2203, 'suede': 5233, 'boot': 606, 'colour': 973, 'chadstone': 809, 'tonite': 5511, 'dig': 1434, 'comfort': 985, 'solitude': 4981, 'meditation': 3334, 'effort': 1659, 'lbs': 3062, 'january': 2890, 'wicked': 5989, 'clothing': 934, 'bittersweet': 543, 'imply': 2663, 'orderly': 3754, 'procession': 4159, 'remove': 4439, 'refuse': 4381, 'ring': 4531, 'conor': 1061, 'living': 3156, 'ubuntu': 5637, 'user': 5775, 'linux': 3140, 'platform': 4001, 'machine': 3230, 'printer': 4141, 'succumb': 5225, 'insecurity': 2753, 'thankfully': 5421, 'preface': 4103, 'disclaimer': 1470, 'peta': 3938, 'portland': 4052, 'doorway': 1557, 'flick': 2053, 'depth': 1368, 'sustained': 5288, 'lenghth': 3088, 'measure': 3321, 'pp': 4078, 'lightening': 3121, 'umbrella': 5646, 'total': 5519, 'yay': 6091, 'aside': 316, 'accord': 39, 'imperfect': 2661, 'rightly': 4527, 'grandmother': 2324, 'aunt': 365, 'flee': 2049, 'baltic': 423, 'cream': 1178, 'lemon': 3086, 'recently': 4343, 'purchase': 4232, 'warehouse': 5905, 'sale': 4613, 'draft': 1575, 'grasp': 2328, 'accomplishment': 38, 'temper': 5383, 'makeup': 3247, 'cherry': 853, 'caterpillar': 782, 'finger': 2019, 'crawl': 1174, 'trouble': 5595, 'asshole': 329, 'blender': 560, 'butter': 710, 'structure': 5187, 'function': 2180, 'convoluted': 1108, 'dave': 1279, 'atell': 340, 'chicken': 857, 'km': 2996, 'absurdity': 20, 'reproductive': 4460, 'dough': 1568, 'hollow': 2529, 'smith': 4921, 'gun': 2376, 'motion': 3470, 'similarly': 4847, 'fulfilled': 2175, 'jerry': 2908, 'sloan': 4901, 'utah': 5780, 'jazz': 2895, 'naega': 3536, 'deo': 1358, 'apaya': 254, 'hae': 2388, 'dasi': 1276, 'neol': 3590, 'chajeul': 813, 'su': 5207, 'itge': 2872, 'sigani': 4834, 'heureulsurok': 2501, 'gaseumi': 2210, 'apawa': 253, 'dan': 1262, 'hanbeon': 2400, 'manirado': 3263, 'forgive': 2104, 'sin': 4853, 'will': 5998, 'doedollil': 1542, 'suman': 5245, 'itdamyeon': 2869, 'gotong': 2306, 'ttawin': 5609, 'naegen': 3537, 'practicie': 4083, 'cult': 1223, 'falun': 1924, 'gong': 2296, 'sceptical': 4658, 'bemuse': 500, 'adress': 85, 'funny': 2186, 'female': 1984, 'destiny': 1393, 'sadden': 4599, 'blur': 581, 'son': 4994, 'pertain': 3935, 'dinn': 1446, 'drinkin': 1588, 'gon': 2295, 'whiskey': 5975, 'beer': 477, 'les': 3093, 'paul': 3883, 'farm': 1939, 'kingdom': 2989, 'stock': 5150, 'enviously': 1776, 'twin': 5627, 'copper': 1118, 'flow': 2070, 'outward': 3782, 'bomb': 595, 'interview': 2810, 'tastic': 5351, 'heap': 2464, 'reveal': 4506, 'honesty': 2545, 'authenticity': 368, 'sequel': 4735, 'overrate': 3794, 'deem': 1309, 'broken': 659, 'handrail': 2409, 'basement': 444, 'unsettled': 5733, 'disconnect': 1474, 'atmosphere': 348, 'infuriate': 2729, 'lowly': 3210, 'dissatisfy': 1509, 'worldly': 6048, 'spy': 5082, 'victim': 5831, 'leare': 3069, 'tsa': 5607, 'croissant': 1200, 'sleepy': 4891, 'drug': 1596, 'induce': 2713, 'haze': 2452, 'incapable': 2685, 'cheer': 845, 'approach': 276, 'ailment': 131, 'rewrite': 4515, 'fma': 2077, 'op': 3735, 'assuage': 334, 'denmark': 1352, 'terrify': 5407, 'loud': 3197, 'blogging': 573, 'deodorant': 1359, 'snob': 4943, 'pleasure': 4012, 'roof': 4556, 'wild': 5996, 'native': 3560, 'mainly': 3241, 'desperately': 1385, 'region': 4386, 'visibly': 5860, 'outer': 3771, 'carniola': 766, 'evidence': 1828, 'suburban': 5220, 'labour': 3016, 'standing': 5109, 'commit': 995, 'jonese': 2923, 'afield': 105, 'woodland': 6037, 'spread': 5075, 'lighten': 3120, 'inability': 2682, 'ller': 3159, 'expensive': 1877, 'shopping': 4804, 'intentionality': 2793, 'officer': 3710, 'krupke': 3009, 'direct': 1451, 'lee': 3075, 'casually': 777, 'shouldn': 4815, 'alaska': 140, 'snowy': 4952, 'pine': 3976, 'destine': 1392, 'southern': 5019, 'california': 726, 'subject': 5211, 'recless': 4350, 'mamma': 3251, 'headlock': 2457, 'whooooo': 5983, 'crack': 1163, 'whooooooooo': 5984, 'craaaaaaack': 1161, 'resent': 4469, 'needlessly': 3581, 'unreasonably': 5728, 'idiosyncrasy': 2630, 'dirt': 1455, 'darkness': 1271, 'sitting': 4871, 'address': 70, 'congratulation': 1057, 'exam': 1836, 'faux': 1953, 'hawk': 2451, 'dykey': 1621, 'remarkable': 4428, 'th': 5417, 'grader': 2315, 'peaceful': 3894, 'site': 4870, 'peril': 3917, 'library': 3110, 'derange': 1369, 'villian': 5843, 'messy': 3363, 'seek': 4700, 'optimism': 3748, 'refusal': 4380, 'fate': 1949, 'wallow': 5894, 'pity': 3988, 'fair': 1915, 'xia': 6082, 'frighten': 2153, 'interminable': 2801, 'bout': 621, 'gown': 2309, 'lapel': 3033, 'charming': 833, 'spectacle': 5038, 'combo': 981, 'intent': 2790, 'chatting': 839, 'mg': 3373, 'seroquel': 4743, 'smoke': 4922, 'academic': 24, 'ie': 2636, 'spock': 5064, 'reciprocate': 4347, 'cramp': 1165, 'transportation': 5560, 'angsty': 212, 'clown': 936, 'kiss': 2990, 'hehe': 2483, 'abandon': 3, 'baffle': 408, 'assaulted': 324, 'unsafe': 5731, 'grace': 2311, 'verge': 5817, 'tenderly': 5393, 'solely': 4976, 'network': 3601, 'interaction': 2796, 'headache': 2454, 'camp': 736, 'hack': 2385, 'cough': 1137, 'splutter': 5063, 'kim': 2984, 'kardashion': 2959, 'tutorial': 5624, 'actively': 58, 'borne': 611, 'psychically': 4210, 'galvanise': 2200, 'prepare': 4111, 'wrestle': 6063, 'shoeless': 4798, 'cox': 1157, 'bf': 516, 'wholly': 5982, 'exit': 1873, 'freakishly': 2133, 'times': 5476, 'fiddly': 1999, 'necessity': 3576, 'valid': 5793, 'complaint': 1018, 'willing': 6001, 'subjective': 5212, 'moss': 3466, 'encase': 1719, 'shell': 4778, 'muffle': 3499, 'sharp': 4771, 'favorable': 1955, 'starter': 5113, 'redeem': 4364, 'genre': 2238, 'appeal': 265, 'curl': 1234, 'transition': 5555, 'natural': 3561, 'lowlight': 3209, 'section': 4695, 'injustice': 2740, 'maggie': 3233, 'poem': 4020, 'vol': 5872, 'consistently': 1073, 'disengage': 1484, 'disintereste': 1491, 'zest': 6122, 'conductor': 1045, 'oiut': 3717, 'minibus': 3397, 'fare': 1938, 'luggage': 3217, 'giggle': 2255, 'nervously': 3595, 'drown': 1595, 'bride': 647, 'reeeeeeeeally': 4369, 'fridge': 2147, 'radio': 4282, 'ad': 65, 'echo': 1645, 'pirate': 3984, 'landlubber': 3029, 'liberated': 3108, 'unease': 5678, 'rank': 4299, 'frugal': 2162, 'antic': 237, 'improv': 2679, 'entry': 1771, 'pedestrian': 3898, 'crossing': 1204, 'lord': 3189, 'portion': 4051, 'seven': 4750, 'unmotivated': 5719, 'foreign': 2101, 'commonplace': 999, 'insulted': 2778, 'scent': 4657, 'melee': 3343, 'dps': 1573, 'rant': 4300, 'raid': 4285, 'profile': 4170, 'sample': 4617, 'enthusiastic': 1763, 'compel': 1012, 'meek': 3337, 'asian': 315, 'ssr': 5092, 'aconfident': 51, 'overcomet': 3788, 'favourite': 1958, 'cell': 797, 'bio': 530, 'buffy': 683, 'multiple': 3504, 'pan': 3829, 'hurtful': 2607, 'sniping': 4940, 'comparatively': 1007, 'preservation': 4117, 'justification': 2951, 'reject': 4396, 'patio': 3879, 'flush': 2072, 'sumthg': 5248, 'tat': 5353, 'thk': 5443, 'medication': 3330, 'barrier': 442, 'medicine': 3331, 'vomit': 5874, 'whip': 5973, 'crunchy': 1212, 'misplaced': 3413, 'loathe': 3161, 'gamer': 2202, 'molyneux': 3438, 'garden': 2208, 'shortlist': 4808, 'flexible': 2051, 'toddler': 5497, 'mistreat': 3419, 'ibs': 2621, 'bowel': 622, 'language': 3030, 'remotely': 4438, 'related': 4401, 'homosexuality': 2542, 'fresh': 2140, 'intuitive': 2822, 'capture': 752, 'britain': 653, 'immediate': 2654, 'nonetheless': 3637, 'gap': 2205, 'earn': 1627, 'limitation': 3133, 'acknowledge': 50, 'definition': 1326, 'til': 5471, 'absence': 16, 'lj': 3157, 'warner': 5911, 'edit': 1653, 'director': 1454, 'format': 2108, 'blu': 578, 'ray': 4314, 'tolerate': 5501, 'tooth': 5513, 'forever': 2102, 'unlucky': 5717, 'genetic': 2236, 'orthodontist': 3764, 'pediatric': 3899, 'legacy': 3079, 'programming': 4175, 'earthquake': 1631, 'foundation': 2118, 'provocation': 4205, 'socially': 4963, 'traditional': 5537, 'omangy': 3724, 'waiting': 5884, 'islam': 2856, 'medically': 3329, 'spit': 5056, 'disrespect': 1504, 'femme': 1987, 'fatale': 1948, 'obvious': 3689, 'britney': 655, 'burn': 701, 'watcher': 5923, 'giver': 2263, 'taker': 5330, 'trial': 5578, 'verse': 5819, 'transcend': 5551, 'secure': 4697, 'zack': 6115, 'symptom': 5312, 'prompting': 4184, 'okay': 3719, 'surprised': 5275, 'environmental': 1778, 'consequence': 1065, 'logging': 3169, 'resort': 4482, 'shirt': 4788, 'nickey': 3618, 'sloppy': 4904, 'carry': 768, 'audre': 364, 'lorde': 3190, 'wedding': 5941, 'afterward': 111, 'indigo': 2710, 'beirut': 488, 'nagging': 3538, 'quilt': 4263, 'upload': 5759, 'instructable': 2775, 'disconnected': 1475, 'charitable': 829, 'donation': 1552, 'uk': 5642, 'sodding': 4969, 'canteen': 746, 'soccer': 4958, 'digest': 1435, 'unnaturally': 5720, 'merely': 3356, 'dump': 1609, 'melt': 3345, 'shoplift': 4803, 'package': 3814, 'gummy': 2375, 'rex': 4516, 'dingler': 1443, 'bench': 502, 'favs': 1959, 'depress': 1364, 'increase': 2699, 'seep': 4703, 'plane': 3993, 'shaving': 4775, 'precision': 4098, 'marvellous': 3288, 'hurry': 2605, 'illness': 2643, 'roll': 4551, 'bodega': 588, 'laundry': 3049, 'oddly': 3700, 'devoid': 1410, 'coin': 957, 'changer': 822, 'shower': 4819, 'bsc': 675, 'ally': 161, 'prank': 4089, 'debate': 1294, 'usa': 5771, 'primary': 4135, 'wod': 6030, 'scale': 4645, 'celebrate': 795, 'anniversary': 221, 'manuscript': 3269, 'fellowship': 1982, 'requirement': 4464, 'sacred': 4596, 'communion': 1002, 'understanding': 5670, 'sublime': 5213, 'insist': 2760, 'jolly': 2920, 'click': 917, 'louder': 3198, 'excellent': 1843, 'tail': 5325, 'vj': 5867, 'exact': 1833, 'opposite': 3745, 'rile': 4530, 'unsheathe': 5735, 'sword': 5306, 'bury': 704, 'hatchet': 2440, 'punk': 4229, 'maniacal': 3258, 'personalize': 3931, 'workplace': 6046, 'momentarily': 3441, 'immensely': 2658, 'repay': 4446, 'goodness': 2300, 'polish': 4031, 'jack': 2877, 'speedy': 5041, 'sugar': 5237, 'crave': 1172, 'repentant': 4449, 'opposition': 3746, 'civil': 891, 'strait': 5160, 'fed': 1965, 'external': 1895, 'beijing': 486, 'item': 2870, 'traction': 5532, 'denise': 1351, 'healthy': 2463, 'imagination': 2649, 'hot': 2573, 'radiator': 4280, 'elevate': 1679, 'thyroid': 5460, 'movement': 3486, 'metabolism': 3364, 'hyperthyroidism': 2614, 'global': 2276, 'warming': 5907, 'practice': 4082, 'correctness': 1129, 'nudist': 3664, 'convention': 1103, 'christine': 878, 'risen': 4538, 'desolate': 1382, 'soundscape': 5014, 'utterly': 5785, 'headlamp': 2455, 'tent': 5398, 'pea': 3892, 'catapult': 779, 'awhile': 388, 'popeye': 4045, 'cartoon': 771, 'rupee': 4585, 'sauna': 4639, 'ice': 2622, 'bath': 451, 'steam': 5128, 'goldilock': 2293, 'supportive': 5263, 'campaign': 737, 'senator': 4718, 'leer': 3076, 'slough': 4906, 'carapace': 754, 'crud': 1208, 'envelop': 1773, 'radiant': 4278, 'ordinary': 3756, 'flash': 2037, 'cousin': 1153, 'west': 5958, 'meath': 3323, 'ping': 3977, 'naughty': 3563, 'rudolph': 4576, 'valentino': 5792, 'perform': 3914, 'unspeakable': 5737, 'ra': 4272, 'picnic': 3966, 'james': 2885, 'november': 3658, 'inevitable': 2718, 'hummpffff': 2597, 'dependent': 1361, 'js': 2934, 'jilt': 2913, 'vow': 5878, 'passport': 3868, 'prejudice': 4108, 'repeatedly': 4448, 'topic': 5515, 'ashamed': 313, 'exhilarated': 1868, 'community': 1003, 'accident': 32, 'psyche': 4208, 'penn': 3905, 'sift': 4833, 'mound': 3478, 'atari': 339, 'cluster': 941, 'sneakily': 4936, 'mas': 3291, 'prance': 4088, 'eartha': 1630, 'kitt': 2994, 'santa': 4626, 'blare': 555, 'cautiously': 789, 'anime': 215, 'edge': 1651, 'slumber': 4909, 'mindful': 3395, 'experiment': 1879, 'adequately': 71, 'appreciation': 273, 'hike': 2513, 'mentality': 3351, 'enmayi': 1749, 'accurate': 44, 'lover': 3206, 'indication': 2709, 'regret': 4388, 'mm': 3427, 'zone': 6126, 'composition': 1024, 'root': 4560, 'condemn': 1040, 'conference': 1046, 'disbelief': 1467, 'ing': 2730, 'niggling': 3623, 'extrememly': 1900, 'petrona': 3944, 'profit': 4171, 'pg': 3946, 'poison': 4024, 'official': 3711, 'contest': 1094, 'means': 3319, 'errrr': 1789, 'dun': 1611, 'noe': 3630, 'lame': 3026, 'bruce': 671, 'yiling': 6102, 'considerate': 1069, 'admin': 74, 'impose': 2668, 'daddy': 1254, 'uncle': 5658, 'abnormally': 12, 'stake': 5104, 'feeder': 1974, 'johann': 2917, 'accompany': 35, 'khartoum': 2976, 'descara': 1373, 'nutrition': 3672, 'health': 2461, 'uh': 5641, 'ewan': 1831, 'obstacle': 3688, 'leaden': 3064, 'another': 231, 'psyched': 4209, 'hopefully': 2558, 'relax': 4406, 'extension': 1892, 'blatant': 556, 'defiance': 1320, 'prominent': 4181, 'characteristic': 827, 'scatter': 4653, 'backwards': 403, 'ambitious': 177, 'alright': 166, 'spook': 5069, 'band': 426, 'crossfit': 1202, 'coach': 946, 'plank': 3995, 'chief': 858, 'ccw': 793, 'yank': 6089, 'monthe': 3451, 'terpene': 5402, 'flavour': 2045, 'hellip': 2488, 'shooter': 4800, 'dorama': 1559, 'articulate': 302, 'prius': 4145, 'shiny': 4786, 'al': 137, 'gore': 2303, 'patagonia': 3872, 'insidious': 2757, 'driving': 1591, 'virtuous': 5857, 'friggin': 2152, 'brand': 631, 'rear': 4333, 'evangelical': 1815, 'alteration': 167, 'china': 864, 'admission': 79, 'puppy': 4231, 'ratty': 4312, 'dickensian': 1423, 'duckie': 1602, 'target': 5346, 'commie': 994, 'feds': 1969, 'vein': 5810, 'scheduler': 4661, 'massive': 3296, 'repairman': 4445, 'tasty': 5352, 'abound': 13, 'cruz': 1216, 'unseen': 5732, 'ambient': 175, 'swear': 5290, 'renowne': 4443, 'atheism': 342, 'skirt': 4882, 'clinique': 923, 'disadvantage': 1459, 'entertainment': 1760, 'awkwardness': 391, 'terminando': 5401, 'com': 976, 'um': 5645, 'ano': 229, 'depois': 1363, 'recreate': 4359, 'fog': 2080, 'center': 800, 'teasing': 5369, 'scrutiny': 4683, 'fantasy': 1936, 'novel': 3657, 'investigate': 2827, 'mythology': 3534, 'protective': 4198, 'module': 3435, 'fellow': 1981, 'interact': 2795, 'definite': 1324, 'development': 1407, 'dozen': 1572, 'ranbir': 4294, 'ayan': 393, 'mukerji': 3502, 'filmfare': 2009, 'smarter': 4915, 'rounded': 4568, 'tinge': 5480, 'sox': 5020, 'tampa': 5340, 'devil': 1408, 'unhealthy': 5697, 'creep': 1189, 'childish': 861, 'fle': 2048, 'flower': 2071, 'unfurl': 5693, 'sunshine': 5252, 'scary': 4652, 'pour': 4072, 'cup': 1227, 'significantly': 4839, 'dollar': 1547, 'desperate': 1384, 'careful': 762, 'confrontational': 1053, 'thrive': 5452, 'executive': 1860, 'corporate': 1126, 'urgent': 5769, 'file': 2006, 'wise': 6020, 'ivspirit': 2875, 'translatethis': 5557, 'formulate': 2110, 'completeness': 1021, 'sober': 4957, 'irreplaceable': 2847, 'idrc': 2634, 'serendipity': 4736, 'collide': 968, 'page': 3817, 'rainbow': 4287, 'burst': 703, 'migraine': 3382, 'overreact': 3795, 'joshua': 2925, 'handbag': 2402, 'sachaye': 4595, 'trembly': 5573, 'succeed': 5222, 'genius': 2237, 'angie': 208, 'massively': 3297, 'amount': 188, 'processing': 4158, 'associate': 333, 'scrape': 4674, 'nook': 3639, 'cranny': 1168, 'juicy': 2942, 'morsel': 3464, 'washington': 5918, 'fearless': 1962, 'debt': 1296, 'thatrupert': 5424, 'polite': 4032, 'track': 5531, 'fitness': 2029, 'unfocused': 5689, 'steady': 5126, 'boss': 612, 'elliptical': 1681, 'snack': 4929, 'inspiring': 2766, 'internship': 2806, 'atm': 347, 'brendon': 645, 'ros': 4561, 'anna': 218, 'wealth': 5930, 'offline': 3712, 'monroe': 3448, 'launch': 3047, 'incorporate': 2697, 'core': 1120, 'mundane': 3511, 'paperwork': 3837, 'bureaucrat': 699, 'revel': 4507, 'andrea': 201, 'belly': 496, 'excuse': 1857, 'journalist': 2929, 'dedicate': 1307, 'eurovision': 1812, 'bleh': 559, 'digress': 1438, 'blame': 552, 'enthusiasm': 1761, 'browser': 670, 'rudely': 4575, 'fool': 2090, 'registration': 4387, 'uneventful': 5680, 'stupidly': 5203, 'eagle': 1624, 'dangerously': 1268, 'warmly': 5908, 'courtesy': 1151, 'journalism': 2928, 'sible': 4826, 'bro': 656, 'fruit': 2163, 'gross': 2351, 'wind': 6008, 'neck': 3577, 'crappy': 1170, 'sarah': 4628, 'jens': 2904, 'retirement': 4498, 'shortly': 4809, 'cancer': 741, 'unfairness': 5684, 'penny': 3906, 'healing': 2460, 'wounding': 6060, 'underway': 5672, 'tempt': 5388, 'emanating': 1687, 'longingly': 3181, 'probe': 4155, 'hardness': 2428, 'mothering': 3469, 'splendid': 5060, 'sniffle': 4938, 'itchy': 2868, 'muay': 3494, 'thai': 5418, 'firefly': 2025, 'serenity': 4737, 'mixed': 3425, 'mosquito': 3465, 'fantabulous': 1934, 'resolved': 4480, 'weightless': 5951, 'comfy': 988, 'hrs': 2581, 'regain': 4382, 'blurt': 582, 'tone': 5507, 'immature': 2653, 'gloss': 2279, 'tread': 5566, 'territory': 5409, 'surgery': 5272, 'emergency': 1695, 'clearly': 911, 'apology': 259, 'boob': 602, 'linda': 3135, 'nightmare': 3626, 'lessen': 3095, 'delicate': 1337, 'leopard': 3092, 'follower': 2085, 'rating': 4311, 'iris': 2840, 'homeschooling': 2538, 'dubai': 1601, 'mun': 3510, 'record': 4355, 'temple': 5386, 'occassionally': 3694, 'earring': 1628, 'incrementally': 2703, 'rigid': 4528, 'paranoia': 3841, 'innanimate': 2743, 'carpet': 767, 'tall': 5339, 'practise': 4084, 'walking': 5891, 'slope': 4903, 'refrigerator': 4379, 'interrupt': 2807, 'trivial': 5591, 'wednesday': 5942, 'receiving': 4341, 'happening': 2416, 'subtle': 5218, 'pagetitle': 3818, 'khatsii': 2977, 'double': 1565, 'victory': 5833, 'struff': 5188, 'fill': 2007, 'fedtastic': 1970, 'tennis': 5395, 'si': 4825, 'stable': 5095, 'hallucination': 2398, 'snow': 4949, 'accumulate': 42, 'conifer': 1058, 'shovel': 4817, 'sleeve': 4892, 'vigorous': 5840, 'chip': 868, 'jealousy': 2899, 'huhuhu': 2589, 'feeble': 1971, 'listening': 3147, 'distortion': 1517, 'unusual': 5744, 'album': 144, 'knight': 2998, 'denim': 1350, 'alot': 164, 'xanax': 6077, 'rebuild': 4338, 'stasia': 5117, 'pool': 4041, 'devastate': 1404, 'lambrusco': 3025, 'quality': 4248, 'bubbly': 677, 'constitution': 1079, 'constitutional': 1080, 'bureaucracy': 698, 'olympic': 3723, 'ahaha': 127, 'retarded': 4497, 'ignorance': 2637, 'engage': 1738, 'broaden': 657, 'tenure': 5399, 'strategy': 5166, 'match': 3301, 'juice': 2941, 'smoothie': 4925, 'raw': 4313, 'vegan': 5807, 'menu': 3354, 'routine': 4570, 'hackle': 2386, 'raise': 4289, 'prevent': 4127, 'manager': 3256, 'formal': 2107, 'evaluation': 1814, 'randomly': 4296, 'foodie': 2089, 'lick': 3111, 'lollypop': 3174, 'mommyhood': 3443, 'breastfeed': 639, 'smoker': 4923, 'cigarette': 885, 'equivalent': 1786, 'couch': 1136, 'cushion': 1240, 'snap': 4932, 'represent': 4457, 'universal': 5708, 'metaphor': 3367, 'ffs': 1994, 'twitter': 5632, 'bounce': 618, 'reference': 4372, 'period': 3918, 'dawn': 1281, 'vividly': 5866, 'feverish': 1992, 'tribute': 5579, 'oiler': 3716, 'count': 1143, 'afternoon': 110, 'lurker': 3227, 'overhear': 3792, 'ringtone': 4533, 'side': 4830, 'knit': 2999, 'relief': 4415, 'noticable': 3652, 'nay': 3569, 'scream': 4677, 'ppl': 4079, 'copy': 1119, 'handsome': 2410, 'traumatic': 5564, 'surface': 5270, 'nauseas': 3565, 'gently': 2240, 'walia': 5889, 'tarun': 5348, 'bani': 430, 'gt': 2363, 'hasting': 2438, 'cop': 1116, 'disorder': 1495, 'globe': 2277, 'adventure': 91, 'homeland': 2535, 'kai': 2956, 'nomming': 3634, 'orange': 3752, 'green': 2340, 'norah': 3641, 'jones': 2922, 'hardship': 2429, 'sum': 5244, 'closed': 929, 'grudge': 2360, 'resupplie': 4495, 'vitamin': 5865, 'disgruntled': 1485, 'insanely': 2750, 'kiat': 2978, 'obsessive': 3687, 'anal': 194, 'drag': 1576, 'pregnant': 4107, 'jacket': 2878, 'mesh': 3360, 'publisher': 4216, 'snobbish': 4944, 'jeanette': 2900, 'winterson': 6017, 'scope': 4669, 'whitleys': 5979, 'motivation': 3473, 'frantically': 2128, 'assured': 338, 'wimp': 6005, 'inquire': 2748, 'incheswhyinche': 2688, 'relocate': 4422, 'drove': 1594, 'graceful': 2312, 'rob': 4545, 'nurture': 3671, 'heal': 2459, 'sustainability': 5287, 'perception': 3910, 'misscariage': 3415, 'dismiss': 1494, 'blindly': 565, 'nicely': 3616, 'pursuit': 4236, 'louis': 3201, 'xvi': 6087, 'marie': 3277, 'antoinette': 239, 'russia': 4590, 'alive': 155, 'mile': 3386, 'foist': 2081, 'inconvenience': 2696, 'aa': 0, 'insight': 2758, 'scratchy': 4676, 'marge': 3273, 'simpson': 4851, 'whisper': 5976, 'july': 2945, 'st': 5093, 'homeless': 2536, 'ridicule': 4523, 'normally': 3645, 'interrupted': 2808, 'benadryl': 501, 'tube': 5611, 'cavalier': 790, 'trim': 5584, 'spoil': 5065, 'breed': 643, 'coat': 948, 'accustomed': 45, 'piano': 3962, 'cheap': 840, 'marketer': 3281, 'consumer': 1086, 'spiritually': 5055, 'impostor': 2670, 'reinforcement': 4394, 'cognitive': 954, 'reframe': 4377, 'diminish': 1441, 'dissolve': 1512, 'defer': 1319, 'essence': 1797, 'exclusively': 1854, 'devoted': 1412, 'youthful': 6111, 'employment': 1710, 'spurn': 5081, 'vine': 5845, 'potentially': 4069, 'harden': 2426, 'planning': 3996, 'tightly': 5470, 'available': 375, 'tool': 5512, 'callous': 730, 'unfaithful': 5685, 'unattainable': 5651, 'sams': 4618, 'hiding': 2507, 'impractical': 2673, 'serina': 4740, 'cleaner': 906, 'plod': 4014, 'isolate': 2860, 'suspense': 5283, 'confusion': 1056, 'ending': 1726, 'loner': 3178, 'sunny': 5251, 'protection': 4197, 'batting': 455, 'recovery': 4358, 'skinny': 4880, 'disposable': 1502, 'income': 2692, 'mall': 3250, 'stage': 5099, 'nervousness': 3596, 'sheer': 4777, 'terror': 5410, 'excite': 1849, 'spontaneous': 5068, 'urgh': 5770, 'unreliable': 5729, 'combat': 977, 'trainer': 5545, 'treassure': 5569, 'exhilirate': 1869, 'weatherman': 5935, 'forecast': 2098, 'acheivment': 47, 'unexpected': 5681, 'remarkably': 4429, 'foolish': 2091, 'outing': 3775, 'harmful': 2431, 'cozy': 1159, 'neighborhood': 3587, 'mexican': 3372, 'shooting': 4801, 'relentlessly': 4412, 'collect': 964, 'generosity': 2234, 'misunderstood': 3422, 'enrage': 1751, 'prior': 4142, 'incident': 2689, 'scandalize': 4647, 'nfl': 3614, 'oatmeal': 3676, 'gather': 2214, 'handed': 2404, 'appointment': 271, 'bum': 689, 'vbac': 5804, 'snatch': 4935, 'darling': 1272, 'lupron': 3224, 'bud': 680, 'request': 4462, 'jerome': 2907, 'ocd': 3696, 'starve': 5116, 'diversity': 1528, 'bastard': 450, 'hat': 2439, 'emily': 1696, 'crisp': 1196, 'panicky': 3832, 'fuss': 2190, 'learning': 3071, 'overweight': 3802, 'american': 182, 'sentinel': 4729, 'hanford': 2411, 'councilman': 1140, 'chins': 867, 'propose': 4193, 'media': 3325, 'policy': 4030, 'committee': 997, 'alarm': 138, 'despair': 1383, 'prove': 4203, 'nao': 3549, 'hyperemesis': 2613, 'slobby': 4902, 'yarn': 6090, 'habitual': 2384, 'wh': 5961, 'initiation': 2737, 'porn': 4048, 'industry': 2717, 'buck': 678, 'grievance': 2344, 'squirt': 5089, 'typically': 5635, 'respond': 4487, 'defination': 1322, 'romance': 4553, 'protectiveness': 4199, 'revalidation': 4505, 'portfolio': 4050, 'importance': 2665, 'sparkle': 5029, 'else': 1683, 'animal': 214, 'sexual': 4754, 'sweden': 5293, 'property': 4191, 'unsuspecting': 5742, 'enemy': 1732, 'ridiculously': 4525, 'temperature': 5384, 'heartburn': 2469, 'collar': 962, 'tonguey': 5509, 'slide': 4894, 'clit': 926, 'eternally': 1803, 'history': 2518, 'technically': 5371, 'customary': 1241, 'siesta': 4832, 'warn': 5910, 'multiplayer': 3503, 'agenda': 113, 'lung': 3223, 'russell': 4589, 'crowe': 1206, 'robin': 4546, 'hood': 2553, 'merida': 3357, 'mailbox': 3238, 'mailman': 3239, 'clerk': 914, 'willingness': 6002, 'emerge': 1694, 'giggly': 2256, 'morose': 3462, 'sombre': 4985, 'distance': 1513, 'spat': 5031, 'scheme': 4662, 'election': 1675, 'precipice': 4095, 'ruffle': 4577, 'inflate': 2724, 'exaggerate': 1835, 'passionately': 3867, 'hyperventilate': 2615, 'queezy': 4254, 'stun': 5199, 'honour': 2550, 'client': 918, 'distributor': 1524, 'floral': 2066, 'stationary': 5122, 'san': 4619, 'ta': 5317, 'da': 1252, 'bul': 686, 'taewuhbeoryeo': 5324, 'niga': 3620, 'ulbujitneun': 5643, 'nal': 3544, 'neoneun': 3592, 'wiheomhae': 5994, 'gal': 2197, 'ttaekkaji': 5608, 'gatsseo': 2216, 'woooo': 6038, 'ethiopia': 1805, 'suffering': 5235, 'implement': 2662, 'arcade': 282, 'eighteen': 1670, 'up': 5753, 'down': 1569, 'hasn': 2437, 'edgy': 1652, 'ingrain': 2731, 'italian': 2866, 'fiber': 1996, 'tragedy': 5539, 'xango': 6078, 'near': 3572, 'unwell': 5749, 'chest': 854, 'flatten': 2040, 'renew': 4441, 'endurance': 1729, 'role': 4549, 'grandma': 2323, 'primetime': 4138, 'murderer': 3514, 'disagree': 1460, 'pet': 3937, 'innate': 2744, 'chinese': 865, 'dire': 1450, 'generation': 2230, 'hadn': 2387, 'aggression': 116, 'privilege': 4150, 'anyone': 246, 'countless': 1145, 'irrational': 2844, 'adulthood': 87, 'concieve': 1037, 'sir': 4865, 'mba': 3310, 'gate': 2212, 'plantar': 3998, 'fascitis': 1942, 'assessment': 327, 'court': 1150, 'rapport': 4304, 'rolex': 4550, 'joyous': 2933, 'stunningly': 5200, 'devastating': 1405, 'release': 4409, 'ccs': 792, 'anipike': 216, 'website': 5940, 'fanfiction': 1932, 'sinus': 4863, 'flattered': 2042, 'shocked': 4794, 'mis': 3406, 'stepping': 5134, 'dishonor': 1490, 'participant': 3855, 'quest': 4255, 'unfortunately': 5691, 'aftermath': 109, 'dunno': 1614, 'startled': 5115, 'rabbit': 4273, 'detest': 1402, 'awareness': 382, 'readjust': 4324, 'strangely': 5163, 'statistic': 5123, 'mormon': 3460, 'anti': 236, 'depressant': 1365, 'lap': 3032, 'tender': 5392, 'teeter': 5380, 'totering': 5522, 'precisely': 4097, 'persecute': 3924, 'rammstein': 4292, 'rape': 4301, 'disdain': 1481, 'arena': 285, 'nesting': 3598, 'homemaking': 2537, 'reprieve': 4459, 'halloween': 2397, 'mishap': 3411, 'sooooooooooo': 5002, 'bunk': 694, 'flaunt': 2043, 'aac': 1, 'miserable': 3408, 'intercourse': 2797, 'soooo': 5001, 'comic': 989, 'hearted': 2470, 'snooty': 4946, 'gauche': 2217, 'appalled': 262, 'financially': 2015, 'cringe': 1194, 'chain': 811, 'numerous': 3667, 'intellectually': 2784, 'hyena': 2610, 'innovation': 2746, 'adjustment': 73, 'economic': 1646, 'labor': 3015, 'conflicted': 1051, 'paparazzi': 3835, 'zq': 6128, 'jcho': 2896, 'cpine': 1160, 'skincare': 4879, 'sectret': 4696, 'snail': 4930, 'egf': 1663, 'repair': 4444, 'gel': 2222, 'jar': 2892, 'sparkleapple': 5030, 'cave': 791, 'tibris': 5462, 'gold': 2292, 'minimal': 3398, 'jewellery': 2910, 'revenue': 4509, 'shelter': 4779, 'ripe': 4536, 'goddamn': 2289, 'fundamentally': 2183, 'selection': 4709, 'democratic': 1346, 'replica': 4453, 'distrustful': 1525, 'curb': 1230, 'resentment': 4471, 'flame': 2035, 'singe': 4858, 'frail': 2123, 'foul': 2117, 'butterfly': 711, 'mediate': 3326, 'ex': 1832, 'manipulate': 3261, 'lily': 3130, 'dink': 1445, 'prettymuch': 4126, 'acronym': 53, 'kite': 2993, 'ambulatory': 179, 'strap': 5165, 'sturdy': 5204, 'trick': 5580, 'sensibly': 4725, 'clue': 938, 'luminary': 3220, 'swinelord': 5303, 'deluxe': 1343, 'differently': 1432, 'truthful': 5605, 'hgtv': 2503, 'shadow': 4758, 'nutritional': 3673, 'plead': 4008, 'uncoil': 5660, 'swim': 5301, 'tie': 5466, 'ecstasy': 1648, 'triumph': 5589, 'owe': 3807, 'fade': 1912, 'hairstyle': 2393, 'droop': 1592, 'frizz': 2157, 'accomplished': 37, 'soley': 4978, 'rooster': 4559, 'underwhelmed': 5674, 'beacuse': 462, 'dirty': 1456, 'decorate': 1305, 'smothered': 4927, 'creature': 1185, 'nesty': 3599, 'teeny': 5379, 'weeny': 5947, 'famous': 1928, 'cathartic': 784, 'secretly': 4694, 'mychem': 3527, 'cre': 1177, 'stubbornly': 5191, 'september': 4734, 'heinous': 2485, 'unibrow': 5699, 'spare': 5027, 'eyelid': 1903, 'def': 1313, 'cure': 1231, 'overdo': 3790, 'working': 6043, 'evolve': 1830, 'abide': 8, 'politic': 4034, 'surmise': 5273, 'sitcom': 4869, 'inclined': 2690, 'inspect': 2762, 'wheat': 5963, 'tech': 5370, 'hyper': 2612, 'asset': 328, 'bogge': 591, 'videotape': 5835, 'brink': 652, 'still': 5140, 'impoverished': 2672, 'surely': 5269, 'enlist': 1748, 'cottage': 1135, 'rustling': 4593, 'attire': 356, 'wimbledon': 6004, 'width': 5991, 'pcm': 3890, 'rash': 4308, 'riva': 4540, 'harvey': 2435, 'weinstein': 5952, 'oscar': 3765, 'compartmentalise': 1010, 'religion': 4418, 'backing': 399, 'dial': 1418, 'digust': 1439, 'dread': 1583, 'president': 4118, 'fierce': 2001, 'egypt': 1665, 'leisurely': 3085, 'plastic': 3999, 'slipper': 4900, 'dopey': 1558, 'gooooood': 2302, 'massage': 3295, 'curiously': 1233, 'excitedly': 1851, 'bleeding': 558, 'intrigue': 2816, 'station': 5121, 'underbelly': 5666, 'central': 801, 'subway': 5221, 'map': 3270, 'frazzle': 2130, 'meltdown': 3346, 'soapbox': 4955, 'moral': 3457, 'turkey': 5620, 'akward': 136, 'genentech': 2226, 'takeover': 5329, 'overwhelm': 3803, 'euan': 1807, 'murder': 3513, 'glow': 2280, 'backdrop': 397, 'phenomenon': 3949, 'chai': 810, 'encouragement': 1723, 'redcoat': 4362, 'resident': 4475, 'wat': 5921, 'sharia': 4769, 'stream': 5169, 'european': 1811, 'union': 5704, 'thesis': 5434, 'trillion': 5583, 'glc': 2271, 'ganging': 2204, 'compromise': 1027, 'unit': 5706, 'birthmom': 536, 'intolerably': 2815, 'polar': 4026, 'mystical': 3531, 'amos': 187, 'retrofitting': 4500, 'cohen': 956, 'arrangement': 293, 'homage': 2533, 'humorous': 2599, 'caller': 728, 'denial': 1349, 'independent': 2707, 'entirety': 1767, 'consumption': 1087, 'marvelous': 3289, 'irresistible': 2848, 'frock': 2158, 'endure': 1730, 'discomfort': 1473, 'benign': 508, 'commercialism': 993, 'cru': 1207, 'australia': 367, 'romcom': 4555, 'sock': 4965, 'string': 5179, 'elder': 1673, 'ditlevsen': 1526, 'gallery': 2198, 'sting': 5144, 'ambition': 176, 'disagreement': 1461, 'poor': 4043, 'addicted': 67, 'nicotine': 3619, 'dry': 1599, 'egg': 1664, 'benedict': 504, 'horrid': 2566, 'thereof': 5433, 'ward': 5902, 'investigator': 2828, 'ponder': 4039, 'manner': 3265, 'grieve': 2345, 'nigeria': 3621, 'assistance': 331, 'safely': 4604, 'encapsulate': 1718, 'ness': 3597, 'energise': 1735, 'socialise': 4961, 'smiley': 4920, 'bah': 414, 'mucus': 3496, 'texture': 5416, 'weave': 5936, 'magic': 3234, 'upper': 5760, 'identify': 2627, 'priority': 4143, 'counselling': 1141, 'revovle': 4513, 'ansi': 232, 'exhaust': 1864, 'aloft': 162, 'reflection': 4375, 'rainy': 4288, 'climate': 919, 'remodel': 4436, 'amenity': 180, 'justanswer': 2949, 'essay': 1796, 'reminder': 4434, 'dm': 1538, 'jeff': 2902, 'technique': 5372, 'heck': 2478, 'brach': 626, 'chipmunk': 869, 'went': 5956, 'flip': 2059, 'flop': 2065, 'mope': 3456, 'admire': 78, 'flatter': 2041, 'bodypump': 590, 'dvd': 1618, 'compulsory': 1028, 'cue': 1222, 'kindness': 2987, 'affirmation': 103, 'sage': 4607, 'eatery': 1640, 'spice': 5047, 'flavor': 2044, 'kairi': 2957, 'prestige': 4123, 'apathetic': 251, 'jesus': 2909, 'electrified': 1676, 'eve': 1817, 'underage': 5665, 'sarcoidosis': 4631, 'disjointed': 1492, 'cook': 1109, 'parcel': 3845, 'timer': 5475, 'bell': 493, 'vegitarianism': 5808, 'cost': 1132, 'fulfilling': 2176, 'balanced': 417, 'arun': 309, 'chemotherapy': 851, 'pinch': 3975, 'niggle': 3622, 'deceive': 1298, 'happpy': 2419, 'athletic': 344, 'enthusiast': 1762, 'insane': 2749, 'smash': 4916, 'rubbish': 4573, 'dead': 1288, 'literary': 3150, 'legitimate': 3083, 'analyze': 195, 'pinpoint': 3980, 'assess': 326, 'exceedingly': 1841, 'pavement': 3886, 'aout': 248, 'entertain': 1757, 'irregardless': 2846, 'alliance': 158, 'funky': 2185, 'frequency': 2137, 'cope': 1117, 'wring': 6064, 'thousand': 5447, 'excruciating': 1856, 'hearing': 2466, 'unique': 5705, 'communication': 1001, 'clique': 925, 'twice': 5626, 'triple': 5588, 'pompous': 4038, 'notoriety': 3655, 'submarine': 5214, 'cartwheel': 772, 'ankle': 217, 'julia': 2943, 'witty': 6027, 'layout': 3058, 'haptic': 2421, 'herrman': 2496, 'franz': 2129, 'liebkind': 3113, 'fuhrer': 2172, 'dancer': 1264, 'nevermind': 3605, 'guest': 2367, 'dharma': 1417, 'amvassago': 192, 'beefy': 476, 'amkris': 186, 'toshibalol': 5518, 'amit': 185, 'beef': 475, 'cake': 721, 'nooo': 3640, 'adopt': 83, 'label': 3014, 'queer': 4253, 'unclear': 5659, 'joel': 2916, 'neurosurgeon': 3602, 'can': 739, 'lawrencewashington': 3053, 'forgot': 2105, 'tiger': 5468, 'loquacious': 3188, 'hunter': 2604, 'dung': 1612, 'maze': 3309, 'solo': 4982, 'disaster': 1466, 'century': 803, 'temporarily': 5387, 'lawyer': 3054, 'dismayed': 1493, 'transfer': 5553, 'operate': 3739, 'disappointment': 1465, 'entrance': 1769, 'admittance': 81, 'hmmm': 2520, 'healthcare': 2462, 'trample': 5548, 'contentedly': 1093, 'humanly': 2592, 'alba': 141, 'fitting': 2030, 'afford': 104, 'primer': 4137, 'limbo': 3131, 'snoop': 4945, 'laptop': 3035, 'likeaudrey': 3125, 'hepburn': 2492, 'tiffany': 5467, 'mediterranean': 3335, 'bone': 600, 'surprise': 5274, 'derby': 1370, 'inconsistent': 2695, 'rustie': 4591, 'dean': 1291, 'hometown': 2540, 'moose': 3455, 'hausa': 2447, 'motorcyclist': 3475, 'resemblance': 4468, 'waitrose': 5885, 'parking': 3851, 'initially': 2736, 'largely': 3037, 'rescue': 4466, 'eater': 1639, 'illustrator': 2647, 'trapping': 5561, 'crosshatch': 1203, 'lensflare': 3091, 'everyone': 1825, 'scroll': 4681, 'obligated': 3680, 'cammie': 735, 'billy': 527, 'fierceness': 2002, 'paste': 3870, 'stone': 5152, 'narrate': 3552, 'erik': 1787, 'prince': 4139, 'autobiography': 372, 'civilian': 892, 'warrior': 5915, 'blackwater': 548, 'unsung': 5739, 'mri': 3491, 'distinctly': 1515, 'multitude': 3506, 'talking': 5338, 'execution': 1859, 'fathom': 1951, 'emotionless': 1704, 'pit': 3987, 'whir': 5974, 'stir': 5147, 'doc': 1539, 'bi': 517, 'organization': 3759, 'mystery': 3530, 'outfit': 3772, 'occur': 3695, 'minor': 3402, 'minimize': 3400, 'keenly': 2970, 'greatly': 2337, 'katniss': 2966, 'tense': 5396, 'carson': 769, 'potato': 4067, 'degree': 1330, 'disorientate': 1497, 'queasy': 4251, 'relatively': 4405, 'barbeque': 437, 'misused': 3423, 'apostrophe': 260, 'bbc': 459, 'incorrect': 2698, 'spelling': 5042, 'itv': 2873, 'censorship': 799, 'cubicle': 1221, 'doom': 1555, 'mourn': 3481, 'lost': 3193, 'qaf': 4243, 'cryin': 1218, 'jacynthe': 2880, 'lookin': 3183, 'rupaul': 4584, 'valentine': 5791, 'kayle': 2968, 'gerle': 2245, 'dumpee': 1610, 'slighted': 4896, 'stem': 5131, 'rejection': 4397, 'replacement': 4452, 'mariah': 3276, 'carey': 765, 'classic': 898, 'sprinkling': 5079, 'stat': 5118, 'beneficial': 505, 'employee': 1708, 'rapidly': 4303, 'ramadan': 4291, 'ordinance': 3755, 'reasonably': 4335, 'genealogical': 2225, 'strain': 5159, 'verbally': 5815, 'necessarily': 3574, 'whistle': 5977, 'grossly': 2352, 'campus': 738, 'adoption': 84, 'harmony': 2432, 'postpone': 4065, 'inaction': 2683, 'unfinished': 5687, 'freud': 2143, 'irma': 2841, 'injection': 2738, 'completion': 1022, 'dharavi': 1416, 'mumbai': 3508, 'annual': 227, 'turnover': 5623, 'carb': 755, 'sandwich': 4623, 'legality': 3080, 'tatter': 5354, 'everybody': 1823, 'unworthiness': 5750, 'coming': 990, 'symbol': 5308, 'ignorant': 2638, 'jeremy': 2905, 'luka': 3218, 'springer': 5078, 'satisfaction': 4635, 'dish': 1489, 'dorm': 1562, 'float': 2063, 'pothole': 4070, 'hasan': 2436, 'retiring': 4499, 'modest': 3434, 'schadenfreude': 4659, 'worship': 6051, 'suicidal': 5240, 'opinionated': 3742, 'admiration': 77, 'summery': 5247, 'element': 1678, 'bummin': 690, 'canon': 744, 'iii': 2641, 'dontknow': 1553, 'linus': 3139, 'lash': 3038, 'empowerment': 1712, 'parenting': 3847, 'mat': 3300, 'circuit': 887, 'spine': 5052, 'atrophy': 350, 'crab': 1162, 'reserve': 4472, 'tale': 5332, 'versus': 5821, 'bizarre': 544, 'reiterate': 4395, 'despondent': 1389, 'mermaidhaire': 3359, 'chore': 874, 'exploration': 1884, 'dull': 1606, 'detail': 1397, 'ii': 2640, 'melancholy': 3341, 'organise': 3758, 'etape': 1800, 'prep': 4109, 'ride': 4521, 'caledonia': 723, 'affair': 98, 'trustworthy': 5602, 'honkerblonke': 2547, 'scabi': 4644, 'verona': 5818, 'goddess': 2290, 'sympathize': 5310, 'hertha': 2497, 'downright': 1571, 'systematically': 5316, 'assassinate': 322, 'yup': 6113, 'cooperation': 1114, 'common': 998, 'mehow': 3340, 'april': 279, 'infield': 2723, 'insider': 2756, 'chakotay': 814, 'silently': 4842, 'chemo': 850, 'radiation': 4279, 'oncologist': 3727, 'initally': 2734, 'internist': 2805, 'nasal': 3555, 'sarcoma': 4632, 'everytime': 1827, 'balloon': 421, 'strawberry': 5167, 'alignment': 153, 'nightlife': 3625, 'speed': 5040, 'sweater': 5292, 'nausea': 3564, 'tiredness': 5486, 'dumb': 1607, 'grandeur': 2321, 'destinys': 1394, 'transform': 5554, 'pant': 3833, 'victorious': 5832, 'mcas': 3311, 'fulfill': 2174, 'idealize': 2626, 'clarity': 896, 'reign': 4392, 'ambulance': 178, 'diazepam': 1422, 'alise': 154, 'disservice': 1510, 'artifically': 303, 'fling': 2058, 'explode': 1883, 'pressurize': 4122, 'cabin': 716, 'bondmusing': 599, 'figt': 2004, 'yo': 6105, 'buzzy': 714, 'mildly': 3385, 'humiliate': 2595, 'hotshot': 2575, 'screw': 4679, 'stillness': 5142, 'crim': 1191, 'hefty': 2482, 'weighting': 5950, 'bucket': 679, 'razor': 4315, 'blade': 549, 'effortlessly': 1660, 'snuggle': 4953, 'candy': 742, 'eid': 1669, 'snotface': 4948, 'gwiyomi': 2380, 'sofa': 4970, 'crake': 1164, 'unjust': 5711, 'hannah': 2413, 'montana': 3449, 'scarf': 4651, 'sue': 5232, 'bloater': 568, 'grin': 2347, 'partially': 3854, 'ivy': 2876, 'remedy': 4430, 'conflict': 1050, 'tch': 5360, 'incase': 2686, 'ehb': 1667, 'ow': 3806, 'precise': 4096, 'misplace': 3412, 'criminal': 1193, 'justice': 2950, 'name': 3546, 'abusive': 22, 'wade': 5881, 'dialog': 1419, 'nakedness': 3543, 'maid': 3236, 'hesitate': 2500, 'improvement': 2681, 'ticket': 5464, 'marten': 3286, 'sol': 4974, 'barbie': 438, 'shatter': 4773, 'spanish': 5026, 'volume': 5873, 'wishful': 6023, 'commitment': 996, 'cage': 719, 'kit': 2991, 'dezinesamaze': 1415, 'fiddle': 1998, 'quaker': 4245, 'announce': 222, 'fortnight': 2113, 'predictably': 4102, 'be': 460, 'cupcake': 1228, 'forefront': 2100, 'utter': 5784, 'thankfulness': 5422, 'gesture': 2247, 'inhibited': 2733, 'shush': 4822, 'calf': 724, 'existent': 1872, 'debris': 1295, 'porcupine': 4047, 'irresponcible': 2849, 'literally': 3149, 'forsake': 2111, 'winner': 6013, 'harrass': 2433, 'oppress': 3747, 'pete': 3939, 'edochie': 1654, 'hoax': 2521, 'olajideolafunmbi': 3720, 'necklace': 3578, 'combing': 980, 'cycling': 1250, 'mushy': 3518, 'feverishly': 1993, 'crunk': 1213, 'distress': 1522, 'empathy': 1705, 'glasgow': 2269, 'handful': 2405, 'organized': 3761, 'isolated': 2861, 'paralysis': 3840, 'hypocrite': 2616, 'palin': 3827, 'reluctance': 4423, 'federal': 1966, 'employ': 1707, 'hundred': 2602, 'eucharist': 1808, 'banker': 432, 'conservative': 1066, 'liberal': 3106, 'gay': 2218, 'arrogant': 299, 'village': 5842, 'alert': 147, 'manila': 3260, 'initial': 2735, 'splash': 5059, 'stroke': 5182, 'tattoo': 5355, 'peggy': 3901, 'mara': 3271, 'disdainful': 1482, 'stinky': 5146, 'horizontal': 2562, 'flexy': 2052, 'benevolent': 507, 'goliath': 2294, 'undo': 5676, 'possess': 4059, 'cumberland': 1226, 'meditate': 3333, 'altogether': 170, 'demotivate': 1348, 'regimented': 4385, 'provocative': 4206, 'belle': 494, 'sebastian': 4688, 'andthenwear': 203, 'frankly': 2126, 'commuter': 1004, 'african': 108, 'reliable': 4414, 'epileptic': 1782, 'usher': 5776, 'toll': 5502, 'lego': 3084, 'tissue': 5488, 'gender': 2223, 'alongside': 163, 'diane': 1420, 'von': 5876, 'furstenberg': 2189, 'rodarte': 4548, 'wu': 6074, 'grant': 2326, 'mouse': 3482, 'perpetually': 3923, 'wounded': 6059, 'preclude': 4099, 'jim': 2914, 'inanimate': 2684, 'jame': 2884, 'outweigh': 3783, 'quivering': 4269, 'lapse': 3034, 'photography': 3956, 'growth': 2359, 'accelerate': 25, 'flicker': 2054, 'racing': 4277, 'herald': 2493, 'constraint': 1081, 'antagonism': 234, 'misunderstanding': 3421, 'wholeheartedly': 5980, 'armistice': 290, 'remembrance': 4432, 'energetically': 1734, 'leadingstring': 3066, 'flaw': 2046, 'economy': 1647, 'gm': 2284, 'heinously': 2486, 'fashioned': 1944, 'illustration': 2646, 'reply': 4454, 'invent': 2824, 'hail': 2391, 'ember': 1692, 'flake': 2034, 'execute': 1858, 'whelming': 5965, 'weekly': 5946, 'grammar': 2319, 'disclosure': 1471, 'collaboration': 961, 'seldom': 4707, 'apparently': 264, 'declare': 1304, 'sickening': 4829, 'songy': 4996, 'thou': 5445, 'christians': 877, 'blaming': 553, 'slut': 4911, 'iolani': 2835, 'attribute': 360, 'romantic': 4554, 'cornish': 1123, 'cornwall': 1124, 'taiwan': 5326, 'peak': 3895, 'housebound': 2578, 'peckish': 3897, 'asking': 318, 'boost': 605, 'taking': 5331, 'charity': 830, 'donate': 1551, 'easel': 1633, 'elation': 1672, 'zombie': 6125, 'heel': 2481, 'suppress': 5266, 'tiring': 5487, 'taylor': 5358, 'swift': 5300, 'bask': 449, 'overtone': 3800, 'ink': 2741, 'redden': 4363, 'manhood': 3257, 'oversized': 3798, 'tee': 5375, 'baggy': 413, 'semi': 4717, 'streak': 5168, 'impressive': 2677, 'wet': 5960, 'yknow': 6104, 'twitchy': 5631, 'envous': 1780, 'hatter': 2445, 'alice': 150, 'indulgence': 2715, 'audacity': 362, 'lounge': 3202, 'entertainer': 1759, 'williams': 6000, 'insomnia': 2761, 'clairee': 894, 'mistress': 3420, 'persona': 3928, 'insecured': 2752, 'insincere': 2759, 'nosy': 3650, 'claw': 903, 'privately': 4149, 'belittle': 492, 'impressed': 2674, 'dunham': 1613, 'portray': 4053, 'minimise': 3399, 'realization': 4331, 'outburst': 3768, 'offspring': 3713, 'pumped': 4222, 'brood': 661, 'gnaw': 2285, 'trimming': 5585, 'paulie': 3884, 'whore': 5987, 'sniiiiifff': 4939, 'honey': 2546, 'loved': 3204, 'manitz': 3264, 'dot': 1564, 'accent': 26, 'artificially': 304, 'moisturiser': 3437, 'last': 3039, 'gentle': 2239, 'cleanse': 908, 'moisturise': 3436, 'guarantee': 2364, 'paragraph': 3838, 'rouge': 4565, 'tub': 5610, 'musician': 3522, 'gene': 2224, 'dominant': 1548, 'poet': 4021, 'likeable': 3124, 'flighty': 2056, 'keith': 2972, 'detour': 1403, 'tourist': 5527, 'xela': 6081, 'neon': 3591, 'shizz': 4792, 'whack': 5962, 'knitter': 3000, 'slapping': 4887, 'unpressed': 5724, 'outlet': 3776, 'agony': 123, 'superman': 5257, 'equal': 1784, 'seriousness': 4742, 'elderly': 1674, 'oven': 3785, 'newly': 3609, 'tendency': 5391, 'paris': 3849, 'janne': 2889, 'suominen': 5253, 'visable': 5858, 'spotlight': 5072, 'unfashionable': 5686, 'virginia': 5855, 'boast': 584, 'caregiver': 763, 'rejoice': 4398, 'consistent': 1072, 'chronically': 881, 'sharpe': 4772, 'chasing': 835, 'passion': 3865, 'channel': 823, 'treader': 5567, 'hardcover': 2425, 'colored': 972, 'pencil': 3904, 'knowingly': 3005, 'murt': 3516, 'narrow': 3554, 'emptiness': 1714, 'baggage': 412, 'disco': 1472, 'affend': 102, 'catholic': 785, 'anyways': 247, 'privacy': 4146, 'shallow': 4764, 'atention': 341, 'misstreate': 3417, 'affeccion': 99, 'genuine': 2241, 'loneliness': 3176, 'newtown': 3613, 'original': 3762, 'fragrance': 2122, 'freshen': 2141, 'underwear': 5673, 'drawer': 1582, 'gorgeously': 2305, 'girly': 2260, 'dash': 1275, 'dickinson': 1424, 'colon': 970, 'enhance': 1743, 'enjambment': 1744, 'sonnet': 4997, 'multitaske': 3505, 'rag': 4283, 'destination': 1391, 'instant': 2769, 'refocus': 4376, 'preparation': 4110, 'incomplete': 2693, 'overrrrrrrrrrrr': 3796, 'sadly': 4601, 'ther': 5431, 'metropolitan': 3371, 'pavilion': 3887, 'sharknado': 4770, 'boisterous': 593, 'untried': 5743, 'generator': 2232, 'spur': 5080, 'titanium': 5489, 'hedgehog': 2479, 'sor': 5004, 'unhappiness': 5695, 'abbigail': 5, 'apraxia': 278, 'spoken': 5066, 'florence': 2067, 'extraordinarily': 1897, 'liberate': 3107, 'holly': 2531, 'warp': 5913, 'moanday': 3428, 'unwanted': 5746, 'vex': 5823, 'nationality': 3559, 'trophy': 5594, 'afrade': 106, 'blissfully': 567, 'unaware': 5653, 'intrusive': 2820, 'gook': 2301, 'overconfident': 3789, 'creation': 1180, 'biochemistry': 532, 'zambia': 6116, 'hookah': 2554, 'openly': 3738, 'recommendation': 4354, 'modern': 3433, 'web': 5937, 'squeak': 5085, 'baachan': 394, 'trolley': 5592, 'tantrum': 5344, 'slink': 4898, 'veil': 5809, 'relentless': 4411, 'housewife': 2579, 'desirable': 1379, 'ironically': 2843, 'loudon': 3200, 'kate': 2964, 'mcgarrigle': 3312, 'rufu': 4578, 'wainwright': 5882, 'doha': 1545, 'moxie': 3488, 'cath': 783, 'script': 4680, 'resistant': 4477, 'revise': 4512, 'appropriate': 277, 'owen': 3808, 'morgan': 3459, 'undertaking': 5671, 'mircowave': 3404, 'pumpin': 4223, 'intimated': 2811, 'sodden': 4968, 'squeeze': 5087, 'sardonic': 4633, 'squat': 5084, 'ironic': 2842, 'broadly': 658, 'breeze': 644, 'entrust': 1770, 'disability': 1457, 'somethign': 4990, 'zumba': 6129, 'pgce': 3947, 'recording': 4356, 'humbug': 2594, 'likewise': 3128, 'validity': 5794, 'aimlessly': 133, 'pileon': 3973, 'knock': 3002, 'backlog': 400, 'lump': 3221, 'supporter': 5262, 'ebook': 1644, 'unfulfilled': 5692, 'abdoman': 7, 'pelvis': 3902, 'compensate': 1013, 'dragon': 1577, 'beg': 478, 'translate': 5556, 'sorrow': 5006, 'mercy': 3355, 'flirt': 2060, 'they': 5435, 'distraction': 1520, 'wheeeeee': 5964, 'unafraid': 5649, 'cruise': 1209, 'instagram': 2767, 'dignified': 1436, 'stance': 5105, 'bathing': 452, 'justin': 2954, 'aryiku': 310, 'sabotage': 4594, 'uglier': 5638, 'deformed': 1328, 'bigotry': 524, 'bind': 528, 'bearable': 465, 'optimist': 3749, 'biochem': 531, 'navigating': 3568, 'trail': 5541, 'recover': 4357, 'kook': 3008, 'annie': 220, 'churn': 884, 'esp': 1794, 'putter': 4240, 'hardcore': 2424, 'flail': 2033, 'wally': 5895, 'lamb': 3024, 'chick': 856, 'monastery': 3444, 'tomfoolery': 5504, 'shenanigan': 4780, 'wrinkle': 6065, 'prevention': 4128, 'prey': 4131, 'lyric': 3229, 'giveaway': 2262, 'resist': 4476, 'finality': 2011, 'florida': 2068, 'barrage': 441, 'scoff': 4668, 'careeeeee': 759, 'unnoticeable': 5722, 'burrow': 702, 'unavoidably': 5652, 'shortcoming': 4807, 'runner': 4582, 'top': 5514, 'comparison': 1009, 'slice': 4893, 'counter': 1144, 'redhead': 4365, 'lavender': 3051, 'substitute': 5217, 'oil': 3715, 'essential': 1798, 'factory': 1911, 'butchery': 708, 'exempt': 1861, 'throbbing': 5454, 'cock': 950, 'teenage': 5377, 'wallet': 5893, 'playoff': 4006, 'ruslan': 4588, 'fedotenko': 1968, 'gratefulness': 2330, 'uber': 5636, 'terry': 5412, 'yippee': 6103, 'deen': 1310, 'bandhu': 428, 'uplifter': 5757, 'slate': 4888, 'unilaterally': 5700, 'carelessness': 764, 'abuse': 21, 'vain': 5790, 'jerk': 2906, 'poke': 4025, 'anonymous': 230, 'murakami': 3512, 'bunnysuit': 695, 'dining': 1444, 'rachel': 4275, 'advise': 95, 'smelly': 4918, 'jalopy': 2882, 'manual': 3267, 'unsupervised': 5740, 'sucessfully': 5226, 'handbrake': 2403, 'illogically': 2644, 'unsettling': 5734, 'upsetting': 5763, 'headphone': 2458, 'momma': 3442, 'willed': 5999, 'tx': 5633, 'sassiness': 4634, 'whingee': 5970, 'offender': 3704, 'pia': 3961, 'cdn': 794, 'plea': 4007, 'prize': 4152, 'italy': 2867, 'generic': 2233, 'gulam': 2373, 'ali': 149, 'classical': 899, 'singer': 4859, 'gluten': 2282, 'mediocre': 3332, 'fascinate': 1940, 'ebb': 1643, 'blink': 566, 'mythical': 3533, 'anybody': 244, 'activism': 59, 'construe': 1083, 'liveagainsttheflow': 3153, 'rampant': 4293, 'sacrifice': 4597, 'whine': 5969, 'hyundai': 2618, 'tucson': 5613, 'gag': 2195, 'spacy': 5024, 'effective': 1658, 'emm': 1698, 'fri': 2144, 'shannon': 4766, 'berate': 510, 'greatness': 2338, 'sai': 4608, 'cognize': 955, 'disregard': 1503, 'cosmo': 1131, 'years': 6095, 'due': 1604, 'stagnate': 5101, 'tremor': 5574, 'rice': 4518, 'axel': 392, 'panic': 3831, 'emptied': 1713, 'stab': 5094, 'phoenix': 3952, 'spew': 5046, 'desperation': 1386, 'engagement': 1739, 'newbie': 3607, 'endzone': 1731, 'marginalise': 3274, 'define': 1323, 'bicycle': 522, 'transport': 5559, 'exceptional': 1845, 'flying': 2076, 'brainless': 629, 'snippy': 4942, 'jackson': 2879, 'cnn': 944, 'shoudlnt': 4812, 'punish': 4227, 'snowboard': 4950, 'calgary': 725, 'pb': 3889, 'prupose': 4207, 'ehh': 1668, 'sweetener': 5296, 'refined': 4373, 'portrayal': 4054, 'gratuitously': 2332, 'revere': 4510, 'pioneer': 3981, 'kidnap': 2981, 'creme': 1190, 'musically': 3521, 'abandonment': 4, 'cliche': 916, 'brandy': 632, 'denounce': 1354, 'grotesque': 2353, 'unrealistic': 5726, 'funk': 2184, 'chaperone': 824, 'winterpaysforsummer': 6016, 'annoyance': 224, 'eyebrow': 1902, 'regulate': 4391, 'sustain': 5286, 'nameless': 3547, 'marginally': 3275, 'awash': 383, 'overeducated': 3791, 'underpaid': 5668, 'indenture': 2705, 'peer': 3900, 'dupe': 1615, 'pickle': 3965, 'hump': 2600, 'hip': 2517, 'cambodia': 734, 'lax': 3055, 'vertigo': 5822, 'trepidatious': 5577, 'sweetness': 5298, 'recess': 4345, 'frequent': 2138, 'manipulkate': 3262, 'lucy': 3216, 'charlie': 831, 'pensive': 3907, 'youtube': 6112, 'trend': 5575, 'distinct': 1514, 'pause': 3885, 'kakashi': 2958, 'entirelly': 1765, 'tod': 5494, 'diwali': 1533, 'jeannie': 2901, 'comforting': 987, 'louche': 3196, 'dorky': 1561, 'rotund': 4564, 'buff': 682, 'looking': 3184, 'bloke': 574, 'muaz': 3495, 'scientist': 4666, 'observe': 3685, 'moon': 3454, 'zero': 6121, 'gravity': 2333, 'relegate': 4410, 'crumble': 1210, 'gatorade': 2215, 'accommodation': 34, 'backpack': 401, 'tangent': 5341, 'converse': 1105, 'shoulde': 4813, 'beautifully': 469, 'curate': 1229, 'sanctity': 4620, 'webkit': 5938, 'adjust': 72, 'auto': 371, 'inline': 2742, 'togehter': 5499, 'chair': 812, 'dust': 1616, 'reread': 4465, 'radical': 4281, 'awkwardly': 390, 'melbourne': 3342, 'linger': 3137, 'decently': 1299, 'enact': 1717, 'arrogance': 298, 'clarify': 895, 'zipline': 6124, 'grove': 2357, 'neighbor': 3586, 'supervise': 5260, 'zhu': 6123, 'snapback': 4933, 'lotus': 3195, 'wholesale': 5981, 'obey': 3677, 'pouting': 4073, 'lean': 3067, 'george': 2243, 'forefinger': 2099, 'thumb': 5459, 'selective': 4710, 'privacys': 4147, 'stagger': 5100, 'upstairs': 5765, 'twisted': 5629, 'allocate': 159, 'lurk': 3226, 'sour': 5016, 'actress': 62, 'athleticism': 345, 'severely': 4751, 'glory': 2278, 'undoubtedly': 5677, 'pundit': 4226, 'sxe': 5307, 'abc': 6, 'insensitive': 2754, 'dramatic': 1580, 'whiny': 5972, 'alcest': 145, 'snippet': 4941, 'kyuhyun': 3011, 'apgujeong': 256, 'hyunjin': 2619, 'mrs': 3492, 'unspoilt': 5738, 'ladder': 3019, 'womanhood': 6032, 'hobby': 2522, 'hostel': 2571, 'loyal': 3211, 'cajole': 720, 'flatmate': 2039, 'woop': 6039, 'correction': 1127, 'throng': 5456, 'fervor': 1988, 'unprepared': 5723, 'kierkegaard': 2982, 'philosopher': 3950, 'oomph': 3733, 'candyland': 743, 'haggard': 2389, 'dreadful': 1584, 'turnout': 5622, 'relevant': 4413, 'derp': 1372, 'lrt': 3212, 'uw': 5786, 'displaced': 1498, 'wisdom': 6019, 'bewildered': 515, 'mug': 3500, 'arrival': 296, 'sentimental': 4728, 'muster': 3524, 'christmassy': 880, 'acquainted': 52, 'gettin': 2249, 'inventory': 2825, 'sauce': 4638, 'perishable': 3919, 'isolation': 2862, 'absorb': 18, 'revelation': 4508, 'ancient': 198, 'tome': 5503, 'strew': 5177, 'bs': 674, 'accepted': 30, 'wondrous': 6035, 'meanness': 3318, 'tab': 5318, 'introduction': 2818, 'hun': 2601, 'hype': 2611, 'justly': 2955, 'pronounce': 4186, 'accordance': 40, 'faithfulness': 1920, 'vey': 5824, 'oncology': 3728, 'dpt': 1574, 'paranoiud': 3843, 'overtook': 3801, 'negatively': 3583, 'addictive': 68, 'laziness': 3060, 'narcissism': 3551, 'justifying': 2953, 'strengthen': 5172, 'hi': 2504, 'splendor': 5061, 'sally': 4614, 'hansen': 2414, 'cha': 808, 'ching': 866, 'silver': 4844, 'glitter': 2275, 'vomity': 5875, 'reported': 4456, 'dissassociate': 1506, 'vinegary': 5847, 'calli': 729, 'trader': 5535, 'disorient': 1496, 'vagina': 5788, 'sugary': 5238, 'gabapentin': 2193, 'zonisamide': 6127, 'holistic': 2527, 'stumped': 5198, 'continental': 1095, 'purely': 4233, 'heaven': 2474, 'asbestos': 311, 'banter': 433, 'seth': 4748, 'loudly': 3199, 'excelent': 1842, 'mighty': 3381, 'roar': 4543, 'pious': 3982, 'uppity': 5761, 'tuesday': 5614, 'mummy': 3509, 'fps': 2120, 'andy': 204, 'chemical': 848, 'gutte': 2378, 'hall': 2396, 'residence': 4474, 'uni': 5698, 'rmb': 4541, 'sensibility': 4724, 'locker': 3167, 'gastric': 2211, 'info': 2726, 'offense': 3705, 'frightening': 2155, 'frightful': 2156, 'vulnerability': 5879, 'tenge': 5394, 'permanent': 3921, 'marathon': 3272, 'admittedly': 82, 'huckleberry': 2585, 'finn': 2022, 'censor': 798, 'flirtie': 2061, 'batter': 454, 'temptation': 5389, 'rider': 4522, 'division': 1531, 'greet': 2341, 'pester': 3936, 'brokeup': 660, 'dint': 1448, 'freshman': 2142, 'evaporate': 1816, 'cyberspace': 1248, 'grit': 2349, 'touchy': 5524, 'feely': 1980, 'motherhood': 3468, 'respectful': 4486, 'euro': 1810, 'expressive': 1891, 'angst': 211, 'yelp': 6098, 'anatomy': 197, 'procure': 4161, 'federer': 1967, 'spinach': 5051, 'feta': 1990, 'cranberry': 1166, 'salad': 4612, 'balsamic': 422, 'viniagrette': 5848, 'artwork': 308, 'tease': 5368, 'lethargic': 3100, 'ai': 129, 'dieting': 1429, 'nanashi': 3548, 'uncare': 5654, 'panel': 3830, 'daycare': 1283, 'beast': 466, 'rd': 4316, 'theirs': 5426, 'peregrino': 3911, 'bonding': 598, 'wardrode': 5904}\n"
     ]
    }
   ],
   "source": [
    "v = TfidfVectorizer()\n",
    "\n",
    "X_train_cv = v.fit_transform(X_train)\n",
    "X_test_cv = v.transform(X_test)\n",
    "\n",
    "# All TfidfVectorizer vocabularies\n",
    "print(v.vocabulary_)"
   ]
  },
  {
   "cell_type": "markdown",
   "metadata": {},
   "source": [
    "# Machine Learning Model"
   ]
  },
  {
   "cell_type": "markdown",
   "metadata": {},
   "source": [
    "## 1. Naive Bayes"
   ]
  },
  {
   "cell_type": "code",
   "execution_count": 20,
   "metadata": {},
   "outputs": [
    {
     "data": {
      "text/html": [
       "<style>#sk-container-id-1 {color: black;}#sk-container-id-1 pre{padding: 0;}#sk-container-id-1 div.sk-toggleable {background-color: white;}#sk-container-id-1 label.sk-toggleable__label {cursor: pointer;display: block;width: 100%;margin-bottom: 0;padding: 0.3em;box-sizing: border-box;text-align: center;}#sk-container-id-1 label.sk-toggleable__label-arrow:before {content: \"▸\";float: left;margin-right: 0.25em;color: #696969;}#sk-container-id-1 label.sk-toggleable__label-arrow:hover:before {color: black;}#sk-container-id-1 div.sk-estimator:hover label.sk-toggleable__label-arrow:before {color: black;}#sk-container-id-1 div.sk-toggleable__content {max-height: 0;max-width: 0;overflow: hidden;text-align: left;background-color: #f0f8ff;}#sk-container-id-1 div.sk-toggleable__content pre {margin: 0.2em;color: black;border-radius: 0.25em;background-color: #f0f8ff;}#sk-container-id-1 input.sk-toggleable__control:checked~div.sk-toggleable__content {max-height: 200px;max-width: 100%;overflow: auto;}#sk-container-id-1 input.sk-toggleable__control:checked~label.sk-toggleable__label-arrow:before {content: \"▾\";}#sk-container-id-1 div.sk-estimator input.sk-toggleable__control:checked~label.sk-toggleable__label {background-color: #d4ebff;}#sk-container-id-1 div.sk-label input.sk-toggleable__control:checked~label.sk-toggleable__label {background-color: #d4ebff;}#sk-container-id-1 input.sk-hidden--visually {border: 0;clip: rect(1px 1px 1px 1px);clip: rect(1px, 1px, 1px, 1px);height: 1px;margin: -1px;overflow: hidden;padding: 0;position: absolute;width: 1px;}#sk-container-id-1 div.sk-estimator {font-family: monospace;background-color: #f0f8ff;border: 1px dotted black;border-radius: 0.25em;box-sizing: border-box;margin-bottom: 0.5em;}#sk-container-id-1 div.sk-estimator:hover {background-color: #d4ebff;}#sk-container-id-1 div.sk-parallel-item::after {content: \"\";width: 100%;border-bottom: 1px solid gray;flex-grow: 1;}#sk-container-id-1 div.sk-label:hover label.sk-toggleable__label {background-color: #d4ebff;}#sk-container-id-1 div.sk-serial::before {content: \"\";position: absolute;border-left: 1px solid gray;box-sizing: border-box;top: 0;bottom: 0;left: 50%;z-index: 0;}#sk-container-id-1 div.sk-serial {display: flex;flex-direction: column;align-items: center;background-color: white;padding-right: 0.2em;padding-left: 0.2em;position: relative;}#sk-container-id-1 div.sk-item {position: relative;z-index: 1;}#sk-container-id-1 div.sk-parallel {display: flex;align-items: stretch;justify-content: center;background-color: white;position: relative;}#sk-container-id-1 div.sk-item::before, #sk-container-id-1 div.sk-parallel-item::before {content: \"\";position: absolute;border-left: 1px solid gray;box-sizing: border-box;top: 0;bottom: 0;left: 50%;z-index: -1;}#sk-container-id-1 div.sk-parallel-item {display: flex;flex-direction: column;z-index: 1;position: relative;background-color: white;}#sk-container-id-1 div.sk-parallel-item:first-child::after {align-self: flex-end;width: 50%;}#sk-container-id-1 div.sk-parallel-item:last-child::after {align-self: flex-start;width: 50%;}#sk-container-id-1 div.sk-parallel-item:only-child::after {width: 0;}#sk-container-id-1 div.sk-dashed-wrapped {border: 1px dashed gray;margin: 0 0.4em 0.5em 0.4em;box-sizing: border-box;padding-bottom: 0.4em;background-color: white;}#sk-container-id-1 div.sk-label label {font-family: monospace;font-weight: bold;display: inline-block;line-height: 1.2em;}#sk-container-id-1 div.sk-label-container {text-align: center;}#sk-container-id-1 div.sk-container {/* jupyter's `normalize.less` sets `[hidden] { display: none; }` but bootstrap.min.css set `[hidden] { display: none !important; }` so we also need the `!important` here to be able to override the default hidden behavior on the sphinx rendered scikit-learn.org. See: https://github.com/scikit-learn/scikit-learn/issues/21755 */display: inline-block !important;position: relative;}#sk-container-id-1 div.sk-text-repr-fallback {display: none;}</style><div id=\"sk-container-id-1\" class=\"sk-top-container\"><div class=\"sk-text-repr-fallback\"><pre>MultinomialNB()</pre><b>In a Jupyter environment, please rerun this cell to show the HTML representation or trust the notebook. <br />On GitHub, the HTML representation is unable to render, please try loading this page with nbviewer.org.</b></div><div class=\"sk-container\" hidden><div class=\"sk-item\"><div class=\"sk-estimator sk-toggleable\"><input class=\"sk-toggleable__control sk-hidden--visually\" id=\"sk-estimator-id-1\" type=\"checkbox\" checked><label for=\"sk-estimator-id-1\" class=\"sk-toggleable__label sk-toggleable__label-arrow\">MultinomialNB</label><div class=\"sk-toggleable__content\"><pre>MultinomialNB()</pre></div></div></div></div></div>"
      ],
      "text/plain": [
       "MultinomialNB()"
      ]
     },
     "execution_count": 20,
     "metadata": {},
     "output_type": "execute_result"
    }
   ],
   "source": [
    "NB_model = MultinomialNB()\n",
    "\n",
    "# Model training\n",
    "NB_model.fit(X_train_cv, y_train)"
   ]
  },
  {
   "cell_type": "code",
   "execution_count": 21,
   "metadata": {},
   "outputs": [],
   "source": [
    "# Get prediction\n",
    "y_pred = NB_model.predict(X_test_cv)"
   ]
  },
  {
   "cell_type": "code",
   "execution_count": 22,
   "metadata": {},
   "outputs": [
    {
     "name": "stdout",
     "output_type": "stream",
     "text": [
      "0.9023569023569024\n"
     ]
    }
   ],
   "source": [
    "# Print accuracy score\n",
    "print(accuracy_score(y_test, y_pred))"
   ]
  },
  {
   "cell_type": "code",
   "execution_count": 23,
   "metadata": {},
   "outputs": [
    {
     "name": "stdout",
     "output_type": "stream",
     "text": [
      "              precision    recall  f1-score   support\n",
      "\n",
      "           0       0.90      0.89      0.89       400\n",
      "           1       0.91      0.90      0.91       388\n",
      "           2       0.90      0.92      0.91       400\n",
      "\n",
      "    accuracy                           0.90      1188\n",
      "   macro avg       0.90      0.90      0.90      1188\n",
      "weighted avg       0.90      0.90      0.90      1188\n",
      "\n"
     ]
    }
   ],
   "source": [
    "# Print classification report\n",
    "print(classification_report(y_test, y_pred))"
   ]
  },
  {
   "cell_type": "markdown",
   "metadata": {},
   "source": [
    "## 2. Random Forest"
   ]
  },
  {
   "cell_type": "code",
   "execution_count": 24,
   "metadata": {},
   "outputs": [
    {
     "data": {
      "text/html": [
       "<style>#sk-container-id-2 {color: black;}#sk-container-id-2 pre{padding: 0;}#sk-container-id-2 div.sk-toggleable {background-color: white;}#sk-container-id-2 label.sk-toggleable__label {cursor: pointer;display: block;width: 100%;margin-bottom: 0;padding: 0.3em;box-sizing: border-box;text-align: center;}#sk-container-id-2 label.sk-toggleable__label-arrow:before {content: \"▸\";float: left;margin-right: 0.25em;color: #696969;}#sk-container-id-2 label.sk-toggleable__label-arrow:hover:before {color: black;}#sk-container-id-2 div.sk-estimator:hover label.sk-toggleable__label-arrow:before {color: black;}#sk-container-id-2 div.sk-toggleable__content {max-height: 0;max-width: 0;overflow: hidden;text-align: left;background-color: #f0f8ff;}#sk-container-id-2 div.sk-toggleable__content pre {margin: 0.2em;color: black;border-radius: 0.25em;background-color: #f0f8ff;}#sk-container-id-2 input.sk-toggleable__control:checked~div.sk-toggleable__content {max-height: 200px;max-width: 100%;overflow: auto;}#sk-container-id-2 input.sk-toggleable__control:checked~label.sk-toggleable__label-arrow:before {content: \"▾\";}#sk-container-id-2 div.sk-estimator input.sk-toggleable__control:checked~label.sk-toggleable__label {background-color: #d4ebff;}#sk-container-id-2 div.sk-label input.sk-toggleable__control:checked~label.sk-toggleable__label {background-color: #d4ebff;}#sk-container-id-2 input.sk-hidden--visually {border: 0;clip: rect(1px 1px 1px 1px);clip: rect(1px, 1px, 1px, 1px);height: 1px;margin: -1px;overflow: hidden;padding: 0;position: absolute;width: 1px;}#sk-container-id-2 div.sk-estimator {font-family: monospace;background-color: #f0f8ff;border: 1px dotted black;border-radius: 0.25em;box-sizing: border-box;margin-bottom: 0.5em;}#sk-container-id-2 div.sk-estimator:hover {background-color: #d4ebff;}#sk-container-id-2 div.sk-parallel-item::after {content: \"\";width: 100%;border-bottom: 1px solid gray;flex-grow: 1;}#sk-container-id-2 div.sk-label:hover label.sk-toggleable__label {background-color: #d4ebff;}#sk-container-id-2 div.sk-serial::before {content: \"\";position: absolute;border-left: 1px solid gray;box-sizing: border-box;top: 0;bottom: 0;left: 50%;z-index: 0;}#sk-container-id-2 div.sk-serial {display: flex;flex-direction: column;align-items: center;background-color: white;padding-right: 0.2em;padding-left: 0.2em;position: relative;}#sk-container-id-2 div.sk-item {position: relative;z-index: 1;}#sk-container-id-2 div.sk-parallel {display: flex;align-items: stretch;justify-content: center;background-color: white;position: relative;}#sk-container-id-2 div.sk-item::before, #sk-container-id-2 div.sk-parallel-item::before {content: \"\";position: absolute;border-left: 1px solid gray;box-sizing: border-box;top: 0;bottom: 0;left: 50%;z-index: -1;}#sk-container-id-2 div.sk-parallel-item {display: flex;flex-direction: column;z-index: 1;position: relative;background-color: white;}#sk-container-id-2 div.sk-parallel-item:first-child::after {align-self: flex-end;width: 50%;}#sk-container-id-2 div.sk-parallel-item:last-child::after {align-self: flex-start;width: 50%;}#sk-container-id-2 div.sk-parallel-item:only-child::after {width: 0;}#sk-container-id-2 div.sk-dashed-wrapped {border: 1px dashed gray;margin: 0 0.4em 0.5em 0.4em;box-sizing: border-box;padding-bottom: 0.4em;background-color: white;}#sk-container-id-2 div.sk-label label {font-family: monospace;font-weight: bold;display: inline-block;line-height: 1.2em;}#sk-container-id-2 div.sk-label-container {text-align: center;}#sk-container-id-2 div.sk-container {/* jupyter's `normalize.less` sets `[hidden] { display: none; }` but bootstrap.min.css set `[hidden] { display: none !important; }` so we also need the `!important` here to be able to override the default hidden behavior on the sphinx rendered scikit-learn.org. See: https://github.com/scikit-learn/scikit-learn/issues/21755 */display: inline-block !important;position: relative;}#sk-container-id-2 div.sk-text-repr-fallback {display: none;}</style><div id=\"sk-container-id-2\" class=\"sk-top-container\"><div class=\"sk-text-repr-fallback\"><pre>RandomForestClassifier()</pre><b>In a Jupyter environment, please rerun this cell to show the HTML representation or trust the notebook. <br />On GitHub, the HTML representation is unable to render, please try loading this page with nbviewer.org.</b></div><div class=\"sk-container\" hidden><div class=\"sk-item\"><div class=\"sk-estimator sk-toggleable\"><input class=\"sk-toggleable__control sk-hidden--visually\" id=\"sk-estimator-id-2\" type=\"checkbox\" checked><label for=\"sk-estimator-id-2\" class=\"sk-toggleable__label sk-toggleable__label-arrow\">RandomForestClassifier</label><div class=\"sk-toggleable__content\"><pre>RandomForestClassifier()</pre></div></div></div></div></div>"
      ],
      "text/plain": [
       "RandomForestClassifier()"
      ]
     },
     "execution_count": 24,
     "metadata": {},
     "output_type": "execute_result"
    }
   ],
   "source": [
    "RFC_model = RandomForestClassifier()\n",
    "\n",
    "RFC_model.fit(X_train_cv, y_train)"
   ]
  },
  {
   "cell_type": "code",
   "execution_count": 25,
   "metadata": {},
   "outputs": [],
   "source": [
    "# Get the predictions for X_test and store it in y_pred\n",
    "y_pred = RFC_model.predict(X_test_cv)"
   ]
  },
  {
   "cell_type": "code",
   "execution_count": 26,
   "metadata": {},
   "outputs": [
    {
     "name": "stdout",
     "output_type": "stream",
     "text": [
      "0.9250841750841751\n"
     ]
    }
   ],
   "source": [
    "# Print Accuracy\n",
    "print(accuracy_score(y_test, y_pred))"
   ]
  },
  {
   "cell_type": "code",
   "execution_count": 27,
   "metadata": {},
   "outputs": [
    {
     "name": "stdout",
     "output_type": "stream",
     "text": [
      "              precision    recall  f1-score   support\n",
      "\n",
      "           0       0.92      0.95      0.93       400\n",
      "           1       0.93      0.93      0.93       388\n",
      "           2       0.93      0.90      0.92       400\n",
      "\n",
      "    accuracy                           0.93      1188\n",
      "   macro avg       0.93      0.93      0.92      1188\n",
      "weighted avg       0.93      0.93      0.92      1188\n",
      "\n"
     ]
    }
   ],
   "source": [
    "# Print the classfication report\n",
    "print(classification_report(y_test, y_pred))"
   ]
  },
  {
   "cell_type": "markdown",
   "metadata": {},
   "source": [
    "# Test Model"
   ]
  },
  {
   "cell_type": "markdown",
   "metadata": {},
   "source": [
    "## Get text"
   ]
  },
  {
   "cell_type": "code",
   "execution_count": 39,
   "metadata": {},
   "outputs": [
    {
     "data": {
      "text/plain": [
       "'i feel that the students in this classroom are very hostile towards any display of intellect just like the rest of society'"
      ]
     },
     "execution_count": 39,
     "metadata": {},
     "output_type": "execute_result"
    }
   ],
   "source": [
    "test_text = df['Comment'][2028]\n",
    "test_text"
   ]
  },
  {
   "cell_type": "markdown",
   "metadata": {},
   "source": [
    "## Apply preprocess"
   ]
  },
  {
   "cell_type": "code",
   "execution_count": 40,
   "metadata": {},
   "outputs": [
    {
     "data": {
      "text/plain": [
       "['feel student classroom hostile display intellect like rest society']"
      ]
     },
     "execution_count": 40,
     "metadata": {},
     "output_type": "execute_result"
    }
   ],
   "source": [
    "test_text_processed = [preprocess(test_text)]\n",
    "test_text_processed"
   ]
  },
  {
   "cell_type": "markdown",
   "metadata": {},
   "source": [
    "## Convert to vector"
   ]
  },
  {
   "cell_type": "code",
   "execution_count": 41,
   "metadata": {},
   "outputs": [],
   "source": [
    "test_text_vc = v.transform(test_text_processed)"
   ]
  },
  {
   "cell_type": "markdown",
   "metadata": {},
   "source": [
    "## Get Prediction"
   ]
  },
  {
   "cell_type": "code",
   "execution_count": 42,
   "metadata": {},
   "outputs": [],
   "source": [
    "test_text = RFC_model.predict(test_text_vc)"
   ]
  },
  {
   "cell_type": "markdown",
   "metadata": {},
   "source": [
    "## Output"
   ]
  },
  {
   "cell_type": "code",
   "execution_count": 43,
   "metadata": {},
   "outputs": [
    {
     "name": "stdout",
     "output_type": "stream",
     "text": [
      "anger -> 2\n",
      "Predicted emotion is anger\n"
     ]
    }
   ],
   "source": [
    "print(f\"{df['Emotion'][2007]} -> {df['Emotion_num'][2007]}\")\n",
    "\n",
    "emotion = test_text[0]\n",
    "if emotion == 0:\n",
    "    print(\"Predicted emotion is joy\")\n",
    "elif emotion == 1:\n",
    "    print(\"Predicted emotion is fear\")\n",
    "elif emotion == 2:\n",
    "    print(\"Predicted emotion is anger\")\n",
    "else:\n",
    "    print(\"Undefined emotion\")"
   ]
  },
  {
   "cell_type": "code",
   "execution_count": 33,
   "metadata": {},
   "outputs": [],
   "source": [
    "# anger    2000 - 2\n",
    "# joy      2000 - 0\n",
    "# fear     1937 - 1"
   ]
  },
  {
   "cell_type": "code",
   "execution_count": null,
   "metadata": {},
   "outputs": [],
   "source": []
  },
  {
   "cell_type": "code",
   "execution_count": null,
   "metadata": {},
   "outputs": [],
   "source": []
  }
 ],
 "metadata": {
  "environment": {
   "kernel": "python3",
   "name": "tf2-gpu.2-13.m112",
   "type": "gcloud",
   "uri": "gcr.io/deeplearning-platform-release/tf2-gpu.2-13:m112"
  },
  "kernelspec": {
   "display_name": "Python 3",
   "language": "python",
   "name": "python3"
  },
  "language_info": {
   "codemirror_mode": {
    "name": "ipython",
    "version": 3
   },
   "file_extension": ".py",
   "mimetype": "text/x-python",
   "name": "python",
   "nbconvert_exporter": "python",
   "pygments_lexer": "ipython3",
   "version": "3.10.12"
  }
 },
 "nbformat": 4,
 "nbformat_minor": 4
}
